{
 "cells": [
  {
   "cell_type": "code",
   "execution_count": 1,
   "id": "353ec70f-0b56-446d-bc98-f263c7e8fafa",
   "metadata": {},
   "outputs": [],
   "source": [
    "# Libraries for data loading, data manipulation and data visulisation\n",
    "import pandas as pd  # Data processing and manipulation \n",
    "import matplotlib.pyplot as plt  # Data visualization\n",
    "import seaborn as sns  # Statistical data visualization\n",
    "import numpy as np  # Numerical operations and linear algebra \n",
    "\n",
    "# Libraries for data preparation and model building\n",
    "from scipy.stats import norm  # Statistical functions\n",
    "from sklearn.preprocessing import StandardScaler  # Data preprocessing\n",
    "import warnings  # Warning handling\n",
    "warnings.filterwarnings('ignore')  # Ignore warnings"
   ]
  },
  {
   "cell_type": "markdown",
   "id": "5f3a05ec-e240-4fb9-a875-5a47cabc51da",
   "metadata": {},
   "source": [
    "### Loading Original Dataset"
   ]
  },
  {
   "cell_type": "code",
   "execution_count": 2,
   "id": "1c3bb376-aa49-4f1e-866b-a89886dd657c",
   "metadata": {},
   "outputs": [],
   "source": [
    "# load the data, used the pandas read_csv() to import our dataset \n",
    "data = pd.read_excel('DiabetesDB.xlsx', sheet_name=None)\n",
    "#df.head() #Preview the dataset"
   ]
  },
  {
   "cell_type": "code",
   "execution_count": 3,
   "id": "aedb8a6e-90be-43a3-8219-9a7187beae77",
   "metadata": {},
   "outputs": [],
   "source": [
    "# Cocantenation\n",
    "df_Original = pd.concat(data.values(), ignore_index=True)"
   ]
  },
  {
   "cell_type": "code",
   "execution_count": 4,
   "id": "2f131646-fb56-44e9-9ce4-4ea557158e88",
   "metadata": {},
   "outputs": [],
   "source": [
    "# load the data, used the pandas read_csv() to import our dataset \n",
    "df_Extra = pd.read_csv('DiabetesDB_Extra.csv')\n",
    "#df.head() #Preview the dataset"
   ]
  },
  {
   "cell_type": "code",
   "execution_count": 5,
   "id": "a07aca6a-e953-4c75-b38d-0c4c238bde2a",
   "metadata": {},
   "outputs": [
    {
     "data": {
      "text/plain": [
       "Index(['Diabetes_binary', 'HighBP', 'HighChol', 'CholCheck', 'BMI', 'Smoker',\n",
       "       'Stroke', 'HeartDiseaseorAttack', 'PhysActivity', 'Fruits', 'Veggies',\n",
       "       'HvyAlcoholConsump', 'AnyHealthcare', 'NoDocbcCost', 'GenHlth',\n",
       "       'MentHlth', 'PhysHlth', 'DiffWalk', 'Sex', 'Age', 'Education',\n",
       "       'Income'],\n",
       "      dtype='object')"
      ]
     },
     "execution_count": 5,
     "metadata": {},
     "output_type": "execute_result"
    }
   ],
   "source": [
    "df_Extra.columns"
   ]
  },
  {
   "cell_type": "code",
   "execution_count": 6,
   "id": "86034e6c-655e-44c7-b382-e4adebeb8b23",
   "metadata": {},
   "outputs": [],
   "source": [
    "# Step 1: Create 'Full_Name' column\n",
    "df_Original['FULL_NAME'] = df_Original['NAME '].fillna('') + ' ' + df_Original['SURNAME'].fillna('')\n",
    "\n",
    "# Step 2: Reorder columns to place 'Full_Name' first\n",
    "columns = ['FULL_NAME'] + [col for col in df_Original.columns if col not in ['FULL_NAME']]\n",
    "df_Original = df_Original[columns]\n"
   ]
  },
  {
   "cell_type": "code",
   "execution_count": 7,
   "id": "a3a779eb-86ce-4dc9-98ef-9cdeb8c3365a",
   "metadata": {},
   "outputs": [],
   "source": [
    "df_Original = df_Original.drop(['NAME ', 'SURNAME', 'PHONE ', 'EMAIL','STATE OF ORIGIN', 'NAME', 'PHONE CALL ', 'CONTACT', 'RELATIONSHIP', 'FILE  LINK'], axis=1)"
   ]
  },
  {
   "cell_type": "markdown",
   "id": "672efa0a-b246-4b73-a6a3-b4c9ebe69f86",
   "metadata": {},
   "source": [
    "#### COde for BMI"
   ]
  },
  {
   "cell_type": "code",
   "execution_count": 8,
   "id": "9feccce0-0d45-4d0c-afd2-9447300a791a",
   "metadata": {},
   "outputs": [],
   "source": [
    "import re\n",
    "\n",
    "def clean_and_convert_to_meters(value):\n",
    "    # Remove non-numeric characters and decimal points\n",
    "    cleaned_value = re.sub(r'\\D', '', str(value))\n",
    "    \n",
    "    if cleaned_value:\n",
    "        # Convert to float and treat it as centimeters\n",
    "        height_in_cm = float(cleaned_value)\n",
    "        # Convert cm to meters\n",
    "        return height_in_cm / 100\n",
    "    else:\n",
    "        return None  # Return None if value is empty or non-numeric\n",
    "\n",
    "# Apply the function to the 'height' column\n",
    "df_Original['HEIGHT'] = df_Original['HEIGHT'].apply(clean_and_convert_to_meters)\n",
    "\n",
    "\n",
    "# Apply the function to the 'height(cm)' column\n",
    "df_Original['HEIGHT (cm)'] = df_Original['HEIGHT (cm)'].apply(clean_and_convert_to_meters)\n",
    "\n"
   ]
  },
  {
   "cell_type": "code",
   "execution_count": 9,
   "id": "f2550d91-3c33-4858-ab6a-d9315c487c92",
   "metadata": {},
   "outputs": [],
   "source": [
    "# Create a new 'height' column\n",
    "df_Original['HEIGHT'] = df_Original['HEIGHT'].fillna(df_Original['HEIGHT (cm)'])\n",
    "\n",
    "# Drop the 'height (cm)' column now that data is merged\n",
    "df_Original.drop(columns=['HEIGHT (cm)'], inplace=True)\n",
    "\n",
    "# Calculate the mean height from available values and round to 2 decimal places\n",
    "mean_height = round(df_Original['HEIGHT'].mean(), 2)\n",
    "\n",
    "# Fill missing values in 'height' with the rounded mean\n",
    "df_Original['HEIGHT'].fillna(mean_height, inplace=True)"
   ]
  },
  {
   "cell_type": "code",
   "execution_count": 10,
   "id": "a48051d6-8a2e-4c9d-83be-ef613cb8859b",
   "metadata": {},
   "outputs": [],
   "source": [
    "# Function to remove non-numeric characters from weight column\n",
    "def clean_weight(value):\n",
    "    # Remove all non-numeric characters, keep only digits and decimal points\n",
    "    cleaned_value = re.sub(r'[^0-9.]', '', str(value))\n",
    "    return float(cleaned_value) if cleaned_value else None\n",
    "\n",
    "# Apply the function to the 'weight' column\n",
    "df_Original['WEIGHT'] = df_Original['WEIGHT'].apply(clean_weight)"
   ]
  },
  {
   "cell_type": "code",
   "execution_count": 18,
   "id": "2de41572-46f1-4713-ac2d-a45a5ea0d114",
   "metadata": {},
   "outputs": [],
   "source": [
    "# Calculate BMI and add it as a new column in the DataFrame\n",
    "df_Original['BMI'] = df_Original['WEIGHT'] / (df_Original['HEIGHT'] ** 2)\n",
    "\n",
    "# Round BMI to 2 decimal places\n",
    "df_Original['BMI'] = df_Original['BMI'].round(0)\n",
    "#df_Original['BMI'] = df_Original['BMI']"
   ]
  },
  {
   "cell_type": "code",
   "execution_count": 19,
   "id": "bea05618-d3fc-4f34-9636-361f7fec90c4",
   "metadata": {},
   "outputs": [
    {
     "data": {
      "text/html": [
       "<div>\n",
       "<style scoped>\n",
       "    .dataframe tbody tr th:only-of-type {\n",
       "        vertical-align: middle;\n",
       "    }\n",
       "\n",
       "    .dataframe tbody tr th {\n",
       "        vertical-align: top;\n",
       "    }\n",
       "\n",
       "    .dataframe thead th {\n",
       "        text-align: right;\n",
       "    }\n",
       "</style>\n",
       "<table border=\"1\" class=\"dataframe\">\n",
       "  <thead>\n",
       "    <tr style=\"text-align: right;\">\n",
       "      <th></th>\n",
       "      <th>FULL_NAME</th>\n",
       "      <th>GENDER</th>\n",
       "      <th>YOB</th>\n",
       "      <th>GLUCOSE</th>\n",
       "      <th>BLOOD P.</th>\n",
       "      <th>BMI</th>\n",
       "      <th>HEIGHT</th>\n",
       "      <th>WEIGHT</th>\n",
       "    </tr>\n",
       "  </thead>\n",
       "  <tbody>\n",
       "    <tr>\n",
       "      <th>0</th>\n",
       "      <td>ALICE JOSEPH</td>\n",
       "      <td>NaN</td>\n",
       "      <td>70 YEARS</td>\n",
       "      <td>8.2MMOL</td>\n",
       "      <td>104/67MMHG</td>\n",
       "      <td>9.0</td>\n",
       "      <td>2.38</td>\n",
       "      <td>48.3</td>\n",
       "    </tr>\n",
       "    <tr>\n",
       "      <th>1</th>\n",
       "      <td>AMOS KPAKACHI</td>\n",
       "      <td>NaN</td>\n",
       "      <td>60 YRS</td>\n",
       "      <td>10.1MMOL</td>\n",
       "      <td>127/74MMHG</td>\n",
       "      <td>11.0</td>\n",
       "      <td>2.38</td>\n",
       "      <td>62.7</td>\n",
       "    </tr>\n",
       "    <tr>\n",
       "      <th>2</th>\n",
       "      <td>AYUBA BARDE</td>\n",
       "      <td>NaN</td>\n",
       "      <td>50 YRS</td>\n",
       "      <td>7.3MM0L</td>\n",
       "      <td>90/60MMHG</td>\n",
       "      <td>12.0</td>\n",
       "      <td>2.38</td>\n",
       "      <td>68.9</td>\n",
       "    </tr>\n",
       "    <tr>\n",
       "      <th>3</th>\n",
       "      <td>AYUBA GWAZAWA</td>\n",
       "      <td>NaN</td>\n",
       "      <td>1982</td>\n",
       "      <td>6.9MMOL</td>\n",
       "      <td>123/79MMGH</td>\n",
       "      <td>11.0</td>\n",
       "      <td>2.38</td>\n",
       "      <td>59.8</td>\n",
       "    </tr>\n",
       "    <tr>\n",
       "      <th>4</th>\n",
       "      <td>BEAUTY  SUNDAY</td>\n",
       "      <td>NaN</td>\n",
       "      <td>1998</td>\n",
       "      <td>4.4MMOL</td>\n",
       "      <td>104/80MMHG</td>\n",
       "      <td>13.0</td>\n",
       "      <td>2.38</td>\n",
       "      <td>72.4</td>\n",
       "    </tr>\n",
       "  </tbody>\n",
       "</table>\n",
       "</div>"
      ],
      "text/plain": [
       "        FULL_NAME GENDER      YOB   GLUCOSE     BLOOD P.   BMI  HEIGHT  WEIGHT\n",
       "0    ALICE JOSEPH    NaN  70 YEARS   8.2MMOL  104/67MMHG   9.0    2.38    48.3\n",
       "1   AMOS KPAKACHI    NaN    60 YRS  10.1MMOL  127/74MMHG  11.0    2.38    62.7\n",
       "2     AYUBA BARDE    NaN    50 YRS   7.3MM0L   90/60MMHG  12.0    2.38    68.9\n",
       "3   AYUBA GWAZAWA    NaN      1982   6.9MMOL  123/79MMGH  11.0    2.38    59.8\n",
       "4  BEAUTY  SUNDAY    NaN      1998   4.4MMOL  104/80MMHG  13.0    2.38    72.4"
      ]
     },
     "execution_count": 19,
     "metadata": {},
     "output_type": "execute_result"
    }
   ],
   "source": [
    "df_Original.head()"
   ]
  },
  {
   "cell_type": "markdown",
   "id": "5ad371a2-51c8-4c4a-8eae-2f2a910d361a",
   "metadata": {},
   "source": [
    "### Code to Clean Gender Column"
   ]
  },
  {
   "cell_type": "code",
   "execution_count": 20,
   "id": "19b1538e-1a6e-432f-a0a8-8abf34f3308a",
   "metadata": {},
   "outputs": [],
   "source": [
    "# Fill missing values in 'Gender' with 'Unknown'\n",
    "df_Original['GENDER'].fillna('Unknown', inplace=True)\n",
    "\n",
    "# Define mapping for 'Male' and 'Female', with 'Unknown' as a separate category if needed\n",
    "gender_mapping = {'MALE': 0, 'FEMALE': 1, 'Unknown': 2}\n",
    "df_Original['GENDER'] = df_Original['GENDER'].map(gender_mapping)\n"
   ]
  },
  {
   "cell_type": "code",
   "execution_count": 21,
   "id": "d3cc1299-ed3c-4ee4-afa6-2448723e11b7",
   "metadata": {},
   "outputs": [],
   "source": [
    "# Rename 'GENDER' to 'Sex' in the old dataset\n",
    "df_Original.rename(columns={'GENDER': 'Sex'}, inplace=True)\n"
   ]
  },
  {
   "cell_type": "markdown",
   "id": "315d6a31-a625-444f-b1fe-cc30d115ee7b",
   "metadata": {},
   "source": [
    "### Code to Clean Age Column"
   ]
  },
  {
   "cell_type": "code",
   "execution_count": 22,
   "id": "7190e96b-703b-4274-9a7b-331c7ab09251",
   "metadata": {},
   "outputs": [],
   "source": [
    "from datetime import datetime\n",
    "\n",
    "# Sample data with 'YOB' column (containing both year of birth and age)\n",
    "#data = {\n",
    "    #'YOB ': ['1995', '74 years', '1985', 'N/A', '30', '2000', '45 years', '1982', '56', 'unknown']\n",
    "#}\n",
    "#df = pd.DataFrame(data)\n",
    "\n",
    "# Get the current year\n",
    "current_year = datetime.now().year\n",
    "\n",
    "# Function to clean and convert the YOB data\n",
    "def clean_yob(value):\n",
    "    if isinstance(value, str):  # Check if the value is a string\n",
    "        # Try to extract the numeric part from the string\n",
    "        digits = ''.join([ch for ch in value if ch.isdigit()])\n",
    "        if len(digits) == 4:  # If it's a 4-digit number, assume it's a year of birth\n",
    "            return int(digits)\n",
    "        elif len(digits) > 0 and len(digits) < 3:  # If it's age (usually 2 digits), calculate YOB\n",
    "            try:\n",
    "                return current_year - int(digits)\n",
    "            except ValueError:\n",
    "                return None\n",
    "    elif isinstance(value, (int, float)):  # If the value is already numeric\n",
    "        if value < current_year:  # If the number is less than the current year, assume it's a year of birth\n",
    "            return int(value)\n",
    "    return None  # For any invalid cases (e.g., 'N/A', 'unknown', etc.)\n",
    "\n",
    "# Apply the function to clean the 'YOB' column\n",
    "df_Original['YOB_cleaned'] = df_Original['YOB '].apply(clean_yob)"
   ]
  },
  {
   "cell_type": "code",
   "execution_count": 23,
   "id": "394d4094-39a7-44fd-b3f4-644955baff6a",
   "metadata": {},
   "outputs": [],
   "source": [
    "# Assuming `df` is the DataFrame with the cleaned 'YOB_cleaned' column\n",
    "current_year = datetime.now().year\n",
    "\n",
    "# Calculate age by subtracting the year of birth from the current year\n",
    "df_Original['Age'] = current_year - df_Original['YOB_cleaned']\n",
    "\n",
    "# Convert the 'Age' column to integer, handling missing values\n",
    "df_Original['Age'] = df_Original['Age'].fillna(df_Original['Age'].median()).astype(int)\n",
    "\n"
   ]
  },
  {
   "cell_type": "markdown",
   "id": "ff560b6e-1d63-4020-999d-b48f151a2723",
   "metadata": {},
   "source": [
    "### Code to Clean Glucose Column"
   ]
  },
  {
   "cell_type": "code",
   "execution_count": 24,
   "id": "f4996044-7cd3-402d-91d2-0d4a6352652e",
   "metadata": {},
   "outputs": [
    {
     "name": "stdout",
     "output_type": "stream",
     "text": [
      "0       8.20\n",
      "1      10.10\n",
      "2       6.97\n",
      "3       6.90\n",
      "4       4.40\n",
      "       ...  \n",
      "146     8.20\n",
      "147     4.80\n",
      "148     8.30\n",
      "149     5.20\n",
      "150     5.80\n",
      "Name: GLUCOSE , Length: 151, dtype: float64\n"
     ]
    }
   ],
   "source": [
    "# First, clean the 'glucose' column\n",
    "df_Original['GLUCOSE '] = df_Original['GLUCOSE '].str.replace('MMOL', '').str.strip()  # Remove 'MMOL' and any extra spaces\n",
    "df_Original['GLUCOSE '] = pd.to_numeric(df_Original['GLUCOSE '], errors='coerce')      # Convert to numeric, set invalid parsing as NaN\n",
    "\n",
    "# Fill missing values with the mean (you could also use median or another method)\n",
    "df_Original['GLUCOSE '].fillna(df_Original['GLUCOSE '].mean(), inplace=True)\n",
    "\n",
    "# Round the 'glucose' values to 2 decimal places\n",
    "df_Original['GLUCOSE '] = df_Original['GLUCOSE '].round(2)\n",
    "\n",
    "# Display the cleaned and rounded 'glucose' column\n",
    "print(df_Original['GLUCOSE '])"
   ]
  },
  {
   "cell_type": "markdown",
   "id": "61d5175e-5d62-4ad1-9e2b-fdbfb3657b0a",
   "metadata": {},
   "source": [
    "### Code to Clean Blood Pressure Column"
   ]
  },
  {
   "cell_type": "code",
   "execution_count": 25,
   "id": "281fe85b-0ec6-4f54-83cb-57393f0c7eb0",
   "metadata": {},
   "outputs": [
    {
     "name": "stdout",
     "output_type": "stream",
     "text": [
      "     Systolic  Diastolic\n",
      "0       104.0       67.0\n",
      "1       127.0       74.0\n",
      "2        90.0       60.0\n",
      "3       123.0        NaN\n",
      "4       104.0       80.0\n",
      "..        ...        ...\n",
      "146      85.0       64.0\n",
      "147     113.0       70.0\n",
      "148     115.0       94.0\n",
      "149     116.0       75.0\n",
      "150     105.0       66.0\n",
      "\n",
      "[151 rows x 2 columns]\n"
     ]
    }
   ],
   "source": [
    "# Remove 'MMHG' and any extra spaces\n",
    "df_Original['BLOOD P.'] = df_Original['BLOOD P.'].str.replace('MMHG', '').str.strip()\n",
    "\n",
    "# Split the blood pressure values into systolic and diastolic columns\n",
    "df_Original[['Systolic', 'Diastolic']] = df_Original['BLOOD P.'].str.split('/', expand=True)\n",
    "\n",
    "# Convert both columns to numeric\n",
    "df_Original['Systolic'] = pd.to_numeric(df_Original['Systolic'], errors='coerce')\n",
    "df_Original['Diastolic'] = pd.to_numeric(df_Original['Diastolic'], errors='coerce')\n",
    "\n",
    "# Optional: Round the values to 2 decimal places (if necessary)\n",
    "df_Original['Systolic'] = df_Original['Systolic'].round(2)\n",
    "df_Original['Diastolic'] = df_Original['Diastolic'].round(2)\n",
    "\n",
    "# Optionally, you can drop the original 'BLOOD P.' column\n",
    "df_Original.drop(columns=['BLOOD P.'], inplace=True)\n",
    "\n",
    "# Display the cleaned data\n",
    "print(df_Original[['Systolic', 'Diastolic']])\n"
   ]
  },
  {
   "cell_type": "markdown",
   "id": "39504b37-5619-4d45-bd2f-5546a4b56eb9",
   "metadata": {},
   "source": [
    "### FINAL ORDERED COLUMNS"
   ]
  },
  {
   "cell_type": "code",
   "execution_count": 26,
   "id": "93de1909-4f35-4d6a-ab0a-d40fd63e1f28",
   "metadata": {},
   "outputs": [
    {
     "name": "stdout",
     "output_type": "stream",
     "text": [
      "        FULL_NAME  Sex  Age  GLUCOSE   Systolic  Diastolic  HEIGHT  WEIGHT  \\\n",
      "0    ALICE JOSEPH  2.0   70      8.20     104.0       67.0    2.38    48.3   \n",
      "1   AMOS KPAKACHI  2.0   60     10.10     127.0       74.0    2.38    62.7   \n",
      "2     AYUBA BARDE  2.0   50      6.97      90.0       60.0    2.38    68.9   \n",
      "3   AYUBA GWAZAWA  2.0   42      6.90     123.0        NaN    2.38    59.8   \n",
      "4  BEAUTY  SUNDAY  2.0   26      4.40     104.0       80.0    2.38    72.4   \n",
      "\n",
      "    BMI  \n",
      "0   9.0  \n",
      "1  11.0  \n",
      "2  12.0  \n",
      "3  11.0  \n",
      "4  13.0  \n"
     ]
    }
   ],
   "source": [
    "# Remove unnecessary columns\n",
    "#df_Original.drop(columns=['YOB ', 'YOB_cleaned'], inplace=True)\n",
    "\n",
    "# Define the new column order\n",
    "new_order = ['FULL_NAME', 'Sex', 'Age', 'GLUCOSE ', 'Systolic', 'Diastolic', 'HEIGHT', 'WEIGHT', 'BMI']\n",
    "\n",
    "# Rearrange the columns\n",
    "df_Original = df_Original[new_order]\n",
    "\n",
    "# Display the updated DataFrame\n",
    "print(df_Original.head())\n"
   ]
  },
  {
   "cell_type": "markdown",
   "id": "7b2bce46-e205-4821-8d84-0c275b777b60",
   "metadata": {},
   "source": [
    "### Creating column for Diabetes Status"
   ]
  },
  {
   "cell_type": "code",
   "execution_count": 27,
   "id": "4eda1b71-7406-46cf-96ec-b26cb46cd1ad",
   "metadata": {},
   "outputs": [],
   "source": [
    "df_Original['Diabetes_binary'] = ((df_Original['BMI'] > 30) | \n",
    "                  (df_Original['Systolic'] > 140) | \n",
    "                  (df_Original['Diastolic'] > 90) | \n",
    "                  (df_Original['Age'] > 45)).astype(int)\n",
    "df_Original['Diabetes_binary'] = df_Original['Diabetes_binary'].astype(int)  # Convert to 0 (no diabetes) and 1 (diabetes)"
   ]
  },
  {
   "cell_type": "code",
   "execution_count": 28,
   "id": "a5320252-f571-4e94-9c2b-b8674a1f9ae2",
   "metadata": {},
   "outputs": [
    {
     "data": {
      "text/plain": [
       "Index(['FULL_NAME', 'Sex', 'Age', 'GLUCOSE ', 'Systolic', 'Diastolic',\n",
       "       'HEIGHT', 'WEIGHT', 'BMI', 'Diabetes_binary'],\n",
       "      dtype='object')"
      ]
     },
     "execution_count": 28,
     "metadata": {},
     "output_type": "execute_result"
    }
   ],
   "source": [
    "df_Original.columns"
   ]
  },
  {
   "cell_type": "markdown",
   "id": "5b5a888e-eb68-4232-90ad-2435e9ff2413",
   "metadata": {},
   "source": [
    "### CLEANING AND PROCESSING THE NEW DATASET"
   ]
  },
  {
   "cell_type": "code",
   "execution_count": 29,
   "id": "49dbd180-2495-41aa-bdf8-a05be556266d",
   "metadata": {},
   "outputs": [
    {
     "data": {
      "text/plain": [
       "Index(['Diabetes_binary', 'HighBP', 'HighChol', 'CholCheck', 'BMI', 'Smoker',\n",
       "       'Stroke', 'HeartDiseaseorAttack', 'PhysActivity', 'Fruits', 'Veggies',\n",
       "       'HvyAlcoholConsump', 'AnyHealthcare', 'NoDocbcCost', 'GenHlth',\n",
       "       'MentHlth', 'PhysHlth', 'DiffWalk', 'Sex', 'Age', 'Education',\n",
       "       'Income'],\n",
       "      dtype='object')"
      ]
     },
     "execution_count": 29,
     "metadata": {},
     "output_type": "execute_result"
    }
   ],
   "source": [
    "df_Extra.columns"
   ]
  },
  {
   "cell_type": "code",
   "execution_count": 30,
   "id": "67889794-13c4-4469-a761-26de1d446063",
   "metadata": {},
   "outputs": [],
   "source": [
    "relevant_columns = [\n",
    "    'Diabetes_binary', 'HighBP', 'HighChol', 'CholCheck', 'BMI', 'Smoker',\n",
    "    'PhysActivity', 'Fruits', 'Veggies', 'HvyAlcoholConsump',\n",
    "    'HeartDiseaseorAttack', 'Age', 'Sex'\n",
    "]\n",
    "df_new = df_Extra[relevant_columns]\n"
   ]
  },
  {
   "cell_type": "code",
   "execution_count": 31,
   "id": "38f974e4-faff-49fb-a706-f066332aacdd",
   "metadata": {},
   "outputs": [
    {
     "data": {
      "text/html": [
       "<div>\n",
       "<style scoped>\n",
       "    .dataframe tbody tr th:only-of-type {\n",
       "        vertical-align: middle;\n",
       "    }\n",
       "\n",
       "    .dataframe tbody tr th {\n",
       "        vertical-align: top;\n",
       "    }\n",
       "\n",
       "    .dataframe thead th {\n",
       "        text-align: right;\n",
       "    }\n",
       "</style>\n",
       "<table border=\"1\" class=\"dataframe\">\n",
       "  <thead>\n",
       "    <tr style=\"text-align: right;\">\n",
       "      <th></th>\n",
       "      <th>Diabetes_binary</th>\n",
       "      <th>HighBP</th>\n",
       "      <th>HighChol</th>\n",
       "      <th>CholCheck</th>\n",
       "      <th>BMI</th>\n",
       "      <th>Smoker</th>\n",
       "      <th>PhysActivity</th>\n",
       "      <th>Fruits</th>\n",
       "      <th>Veggies</th>\n",
       "      <th>HvyAlcoholConsump</th>\n",
       "      <th>HeartDiseaseorAttack</th>\n",
       "      <th>Age</th>\n",
       "      <th>Sex</th>\n",
       "    </tr>\n",
       "  </thead>\n",
       "  <tbody>\n",
       "    <tr>\n",
       "      <th>0</th>\n",
       "      <td>0.0</td>\n",
       "      <td>1.0</td>\n",
       "      <td>0.0</td>\n",
       "      <td>1.0</td>\n",
       "      <td>26.0</td>\n",
       "      <td>0.0</td>\n",
       "      <td>1.0</td>\n",
       "      <td>0.0</td>\n",
       "      <td>1.0</td>\n",
       "      <td>0.0</td>\n",
       "      <td>0.0</td>\n",
       "      <td>4.0</td>\n",
       "      <td>1.0</td>\n",
       "    </tr>\n",
       "    <tr>\n",
       "      <th>1</th>\n",
       "      <td>0.0</td>\n",
       "      <td>1.0</td>\n",
       "      <td>1.0</td>\n",
       "      <td>1.0</td>\n",
       "      <td>26.0</td>\n",
       "      <td>1.0</td>\n",
       "      <td>0.0</td>\n",
       "      <td>1.0</td>\n",
       "      <td>0.0</td>\n",
       "      <td>0.0</td>\n",
       "      <td>0.0</td>\n",
       "      <td>12.0</td>\n",
       "      <td>1.0</td>\n",
       "    </tr>\n",
       "    <tr>\n",
       "      <th>2</th>\n",
       "      <td>0.0</td>\n",
       "      <td>0.0</td>\n",
       "      <td>0.0</td>\n",
       "      <td>1.0</td>\n",
       "      <td>26.0</td>\n",
       "      <td>0.0</td>\n",
       "      <td>1.0</td>\n",
       "      <td>1.0</td>\n",
       "      <td>1.0</td>\n",
       "      <td>0.0</td>\n",
       "      <td>0.0</td>\n",
       "      <td>13.0</td>\n",
       "      <td>1.0</td>\n",
       "    </tr>\n",
       "    <tr>\n",
       "      <th>3</th>\n",
       "      <td>0.0</td>\n",
       "      <td>1.0</td>\n",
       "      <td>1.0</td>\n",
       "      <td>1.0</td>\n",
       "      <td>28.0</td>\n",
       "      <td>1.0</td>\n",
       "      <td>1.0</td>\n",
       "      <td>1.0</td>\n",
       "      <td>1.0</td>\n",
       "      <td>0.0</td>\n",
       "      <td>0.0</td>\n",
       "      <td>11.0</td>\n",
       "      <td>1.0</td>\n",
       "    </tr>\n",
       "    <tr>\n",
       "      <th>4</th>\n",
       "      <td>0.0</td>\n",
       "      <td>0.0</td>\n",
       "      <td>0.0</td>\n",
       "      <td>1.0</td>\n",
       "      <td>29.0</td>\n",
       "      <td>1.0</td>\n",
       "      <td>1.0</td>\n",
       "      <td>1.0</td>\n",
       "      <td>1.0</td>\n",
       "      <td>0.0</td>\n",
       "      <td>0.0</td>\n",
       "      <td>8.0</td>\n",
       "      <td>0.0</td>\n",
       "    </tr>\n",
       "  </tbody>\n",
       "</table>\n",
       "</div>"
      ],
      "text/plain": [
       "   Diabetes_binary  HighBP  HighChol  CholCheck   BMI  Smoker  PhysActivity  \\\n",
       "0              0.0     1.0       0.0        1.0  26.0     0.0           1.0   \n",
       "1              0.0     1.0       1.0        1.0  26.0     1.0           0.0   \n",
       "2              0.0     0.0       0.0        1.0  26.0     0.0           1.0   \n",
       "3              0.0     1.0       1.0        1.0  28.0     1.0           1.0   \n",
       "4              0.0     0.0       0.0        1.0  29.0     1.0           1.0   \n",
       "\n",
       "   Fruits  Veggies  HvyAlcoholConsump  HeartDiseaseorAttack   Age  Sex  \n",
       "0     0.0      1.0                0.0                   0.0   4.0  1.0  \n",
       "1     1.0      0.0                0.0                   0.0  12.0  1.0  \n",
       "2     1.0      1.0                0.0                   0.0  13.0  1.0  \n",
       "3     1.0      1.0                0.0                   0.0  11.0  1.0  \n",
       "4     1.0      1.0                0.0                   0.0   8.0  0.0  "
      ]
     },
     "execution_count": 31,
     "metadata": {},
     "output_type": "execute_result"
    }
   ],
   "source": [
    "df_new.head()"
   ]
  },
  {
   "cell_type": "markdown",
   "id": "a15c9ee2-6901-4a53-89b2-55d8e7537379",
   "metadata": {},
   "source": [
    "### Create New Columns in the Old Dataset"
   ]
  },
  {
   "cell_type": "code",
   "execution_count": 32,
   "id": "0b14114c-5da7-4870-b664-ed0ecdb163e8",
   "metadata": {},
   "outputs": [
    {
     "name": "stdout",
     "output_type": "stream",
     "text": [
      "        FULL_NAME  Sex  Age  GLUCOSE   Systolic  Diastolic  HEIGHT  WEIGHT  \\\n",
      "0    ALICE JOSEPH  2.0   70      8.20     104.0       67.0    2.38    48.3   \n",
      "1   AMOS KPAKACHI  2.0   60     10.10     127.0       74.0    2.38    62.7   \n",
      "2     AYUBA BARDE  2.0   50      6.97      90.0       60.0    2.38    68.9   \n",
      "3   AYUBA GWAZAWA  2.0   42      6.90     123.0        NaN    2.38    59.8   \n",
      "4  BEAUTY  SUNDAY  2.0   26      4.40     104.0       80.0    2.38    72.4   \n",
      "\n",
      "    BMI  Diabetes_binary  HighBP  HighChol  CholCheck  Smoker  PhysActivity  \\\n",
      "0   9.0                1     NaN       NaN        NaN     NaN           NaN   \n",
      "1  11.0                1     NaN       NaN        NaN     NaN           NaN   \n",
      "2  12.0                1     NaN       NaN        NaN     NaN           NaN   \n",
      "3  11.0                0     NaN       NaN        NaN     NaN           NaN   \n",
      "4  13.0                0     NaN       NaN        NaN     NaN           NaN   \n",
      "\n",
      "   Fruits  Veggies  HvyAlcoholConsump  HeartDiseaseorAttack  \n",
      "0     NaN      NaN                NaN                   NaN  \n",
      "1     NaN      NaN                NaN                   NaN  \n",
      "2     NaN      NaN                NaN                   NaN  \n",
      "3     NaN      NaN                NaN                   NaN  \n",
      "4     NaN      NaN                NaN                   NaN  \n"
     ]
    }
   ],
   "source": [
    "# Identify missing columns\n",
    "missing_columns = ['HighBP', 'HighChol', 'CholCheck', 'Smoker', \n",
    "                   'PhysActivity', 'Fruits', 'Veggies', \n",
    "                   'HvyAlcoholConsump', 'HeartDiseaseorAttack']\n",
    "\n",
    "# Create missing columns in the old dataset\n",
    "for col in missing_columns:\n",
    "    if col not in df_Original.columns:\n",
    "        df_Original[col] = np.nan  # Initialize with NaN\n",
    "\n",
    "# Populate 'Sex' from 'GENDER'\n",
    "# Assume 'Male' -> 1, 'Female' -> 0 (map accordingly)\n",
    "#df_Original['Sex'] = df_Original['GENDER'].map({'Male': 1, 'Female': 0}).fillna(np.nan)\n",
    "\n",
    "# Preview the updated old dataset\n",
    "print(df_Original.head())\n"
   ]
  },
  {
   "cell_type": "code",
   "execution_count": 33,
   "id": "1adedb8a-d6cb-4fb5-9b87-60112ffeb49c",
   "metadata": {},
   "outputs": [
    {
     "data": {
      "text/plain": [
       "Index(['FULL_NAME', 'Sex', 'Age', 'GLUCOSE ', 'Systolic', 'Diastolic',\n",
       "       'HEIGHT', 'WEIGHT', 'BMI', 'Diabetes_binary', 'HighBP', 'HighChol',\n",
       "       'CholCheck', 'Smoker', 'PhysActivity', 'Fruits', 'Veggies',\n",
       "       'HvyAlcoholConsump', 'HeartDiseaseorAttack'],\n",
       "      dtype='object')"
      ]
     },
     "execution_count": 33,
     "metadata": {},
     "output_type": "execute_result"
    }
   ],
   "source": [
    "df_Original.columns"
   ]
  },
  {
   "cell_type": "code",
   "execution_count": 34,
   "id": "9008c343-778e-4df4-88eb-93ab271ee342",
   "metadata": {},
   "outputs": [],
   "source": [
    "# Final list of columns in the new dataset\n",
    "new_dataset_columns = [\n",
    "    'FULL_NAME', 'Sex', 'Age', 'GLUCOSE ', 'Systolic', 'Diastolic', \n",
    "    'HEIGHT', 'WEIGHT', 'BMI', 'Diabetes_binary', \n",
    "    'HighBP', 'HighChol', 'CholCheck', 'Smoker', 'PhysActivity', \n",
    "    'Fruits', 'Veggies', 'HvyAlcoholConsump', 'HeartDiseaseorAttack'\n",
    "]\n",
    "\n",
    "# Drop columns in the old dataset not present in the new dataset\n",
    "df_Original_cleaned = df_Original[[col for col in df_Original.columns if col in df_new]]\n"
   ]
  },
  {
   "cell_type": "code",
   "execution_count": 35,
   "id": "ee0ab62b-9e04-4702-862c-2cf419f298e5",
   "metadata": {},
   "outputs": [
    {
     "data": {
      "text/plain": [
       "Index(['Sex', 'Age', 'BMI', 'Diabetes_binary', 'HighBP', 'HighChol',\n",
       "       'CholCheck', 'Smoker', 'PhysActivity', 'Fruits', 'Veggies',\n",
       "       'HvyAlcoholConsump', 'HeartDiseaseorAttack'],\n",
       "      dtype='object')"
      ]
     },
     "execution_count": 35,
     "metadata": {},
     "output_type": "execute_result"
    }
   ],
   "source": [
    "df_Original_cleaned.columns"
   ]
  },
  {
   "cell_type": "code",
   "execution_count": 36,
   "id": "19129e19-bd14-4e65-be8e-13c40daef061",
   "metadata": {},
   "outputs": [],
   "source": [
    "finl_dataset_columns = ['Sex', 'Age', 'BMI', 'Diabetes_binary', 'HighBP', 'HighChol',\n",
    "       'CholCheck', 'Smoker', 'PhysActivity', 'Fruits', 'Veggies',\n",
    "       'HvyAlcoholConsump', 'HeartDiseaseorAttack']"
   ]
  },
  {
   "cell_type": "code",
   "execution_count": 37,
   "id": "436d7efe-a57a-446c-9498-877a0aeaea75",
   "metadata": {},
   "outputs": [],
   "source": [
    "# Reorder old dataset columns to match the new dataset\n",
    "df_Original_cleaned = df_Original_cleaned[finl_dataset_columns]\n",
    "\n",
    "# Reorder new dataset columns to ensure they match (optional, for safety)\n",
    "df_new_cleaned = df_new[finl_dataset_columns]\n"
   ]
  },
  {
   "cell_type": "code",
   "execution_count": 38,
   "id": "be8dc8bf-d803-4251-b2fe-870ce64026dc",
   "metadata": {},
   "outputs": [
    {
     "name": "stdout",
     "output_type": "stream",
     "text": [
      "Old Dataset Columns: Index(['Sex', 'Age', 'BMI', 'Diabetes_binary', 'HighBP', 'HighChol',\n",
      "       'CholCheck', 'Smoker', 'PhysActivity', 'Fruits', 'Veggies',\n",
      "       'HvyAlcoholConsump', 'HeartDiseaseorAttack'],\n",
      "      dtype='object')\n",
      "New Dataset Columns: Index(['Sex', 'Age', 'BMI', 'Diabetes_binary', 'HighBP', 'HighChol',\n",
      "       'CholCheck', 'Smoker', 'PhysActivity', 'Fruits', 'Veggies',\n",
      "       'HvyAlcoholConsump', 'HeartDiseaseorAttack'],\n",
      "      dtype='object')\n"
     ]
    }
   ],
   "source": [
    "# Final Preview\n",
    "print(\"Old Dataset Columns:\", df_Original_cleaned.columns)\n",
    "print(\"New Dataset Columns:\", df_new_cleaned.columns)"
   ]
  },
  {
   "cell_type": "code",
   "execution_count": 53,
   "id": "0efb9ce6-933b-469c-9957-2a7a1103c1c3",
   "metadata": {},
   "outputs": [
    {
     "name": "stdout",
     "output_type": "stream",
     "text": [
      "     Sex   Age   BMI  Diabetes_binary  HighBP  HighChol  CholCheck  Smoker  \\\n",
      "0    2.0  70.0   9.0              1.0     NaN       NaN        NaN     NaN   \n",
      "1    2.0  60.0  11.0              1.0     NaN       NaN        NaN     NaN   \n",
      "2    2.0  50.0  12.0              1.0     NaN       NaN        NaN     NaN   \n",
      "3    2.0  42.0  11.0              0.0     NaN       NaN        NaN     NaN   \n",
      "4    2.0  26.0  13.0              0.0     NaN       NaN        NaN     NaN   \n",
      "..   ...   ...   ...              ...     ...       ...        ...     ...   \n",
      "495  0.0   3.0  25.0              0.0     0.0       0.0        1.0     0.0   \n",
      "496  1.0   4.0  35.0              0.0     0.0       0.0        1.0     1.0   \n",
      "497  0.0  13.0  28.0              0.0     1.0       1.0        1.0     0.0   \n",
      "498  0.0   7.0  25.0              0.0     0.0       0.0        1.0     0.0   \n",
      "499  1.0  12.0  22.0              0.0     0.0       0.0        1.0     1.0   \n",
      "\n",
      "     PhysActivity  Fruits  Veggies  HvyAlcoholConsump  HeartDiseaseorAttack  \n",
      "0             NaN     NaN      NaN                NaN                   NaN  \n",
      "1             NaN     NaN      NaN                NaN                   NaN  \n",
      "2             NaN     NaN      NaN                NaN                   NaN  \n",
      "3             NaN     NaN      NaN                NaN                   NaN  \n",
      "4             NaN     NaN      NaN                NaN                   NaN  \n",
      "..            ...     ...      ...                ...                   ...  \n",
      "495           0.0     1.0      0.0                0.0                   0.0  \n",
      "496           0.0     1.0      1.0                0.0                   0.0  \n",
      "497           1.0     1.0      1.0                0.0                   0.0  \n",
      "498           1.0     0.0      0.0                0.0                   0.0  \n",
      "499           1.0     1.0      1.0                0.0                   1.0  \n",
      "\n",
      "[500 rows x 13 columns]\n"
     ]
    }
   ],
   "source": [
    "# Merge the datasets\n",
    "merged_df = pd.concat([df_Original_cleaned, df_new_cleaned], ignore_index=True)\n",
    "\n",
    "# Preview merged data\n",
    "print(merged_df.head(500))\n"
   ]
  },
  {
   "cell_type": "code",
   "execution_count": 56,
   "id": "8aac54cb-6aac-41d4-9913-c9e01601bc31",
   "metadata": {},
   "outputs": [
    {
     "name": "stdout",
     "output_type": "stream",
     "text": [
      "Sex                     0\n",
      "Age                     0\n",
      "BMI                     0\n",
      "Diabetes_binary         0\n",
      "HighBP                  0\n",
      "HighChol                0\n",
      "CholCheck               0\n",
      "Smoker                  0\n",
      "PhysActivity            0\n",
      "Fruits                  0\n",
      "Veggies                 0\n",
      "HvyAlcoholConsump       0\n",
      "HeartDiseaseorAttack    0\n",
      "dtype: int64\n"
     ]
    }
   ],
   "source": [
    "# Fill null values in each column with the mode\n",
    "for column in merged_df.columns:\n",
    "    if merged_df[column].isnull().sum() > 0:  # Check if there are null values\n",
    "        mode_value = merged_df[column].mode()[0]  # Calculate the mode\n",
    "        merged_df[column].fillna(mode_value, inplace=True)  # Fill nulls with the mode\n",
    "\n",
    "# Verify that there are no missing values\n",
    "print(merged_df.isnull().sum())\n",
    "\n"
   ]
  },
  {
   "cell_type": "code",
   "execution_count": 57,
   "id": "d4c54acf-71f2-4792-91a2-cdbac36bf52e",
   "metadata": {},
   "outputs": [
    {
     "data": {
      "text/html": [
       "<div>\n",
       "<style scoped>\n",
       "    .dataframe tbody tr th:only-of-type {\n",
       "        vertical-align: middle;\n",
       "    }\n",
       "\n",
       "    .dataframe tbody tr th {\n",
       "        vertical-align: top;\n",
       "    }\n",
       "\n",
       "    .dataframe thead th {\n",
       "        text-align: right;\n",
       "    }\n",
       "</style>\n",
       "<table border=\"1\" class=\"dataframe\">\n",
       "  <thead>\n",
       "    <tr style=\"text-align: right;\">\n",
       "      <th></th>\n",
       "      <th>Sex</th>\n",
       "      <th>Age</th>\n",
       "      <th>BMI</th>\n",
       "      <th>Diabetes_binary</th>\n",
       "      <th>HighBP</th>\n",
       "      <th>HighChol</th>\n",
       "      <th>CholCheck</th>\n",
       "      <th>Smoker</th>\n",
       "      <th>PhysActivity</th>\n",
       "      <th>Fruits</th>\n",
       "      <th>Veggies</th>\n",
       "      <th>HvyAlcoholConsump</th>\n",
       "      <th>HeartDiseaseorAttack</th>\n",
       "    </tr>\n",
       "  </thead>\n",
       "  <tbody>\n",
       "    <tr>\n",
       "      <th>0</th>\n",
       "      <td>2.0</td>\n",
       "      <td>70.0</td>\n",
       "      <td>9.0</td>\n",
       "      <td>1.0</td>\n",
       "      <td>1.0</td>\n",
       "      <td>1.0</td>\n",
       "      <td>1.0</td>\n",
       "      <td>0.0</td>\n",
       "      <td>1.0</td>\n",
       "      <td>1.0</td>\n",
       "      <td>1.0</td>\n",
       "      <td>0.0</td>\n",
       "      <td>0.0</td>\n",
       "    </tr>\n",
       "    <tr>\n",
       "      <th>1</th>\n",
       "      <td>2.0</td>\n",
       "      <td>60.0</td>\n",
       "      <td>11.0</td>\n",
       "      <td>1.0</td>\n",
       "      <td>1.0</td>\n",
       "      <td>1.0</td>\n",
       "      <td>1.0</td>\n",
       "      <td>0.0</td>\n",
       "      <td>1.0</td>\n",
       "      <td>1.0</td>\n",
       "      <td>1.0</td>\n",
       "      <td>0.0</td>\n",
       "      <td>0.0</td>\n",
       "    </tr>\n",
       "    <tr>\n",
       "      <th>2</th>\n",
       "      <td>2.0</td>\n",
       "      <td>50.0</td>\n",
       "      <td>12.0</td>\n",
       "      <td>1.0</td>\n",
       "      <td>1.0</td>\n",
       "      <td>1.0</td>\n",
       "      <td>1.0</td>\n",
       "      <td>0.0</td>\n",
       "      <td>1.0</td>\n",
       "      <td>1.0</td>\n",
       "      <td>1.0</td>\n",
       "      <td>0.0</td>\n",
       "      <td>0.0</td>\n",
       "    </tr>\n",
       "    <tr>\n",
       "      <th>3</th>\n",
       "      <td>2.0</td>\n",
       "      <td>42.0</td>\n",
       "      <td>11.0</td>\n",
       "      <td>0.0</td>\n",
       "      <td>1.0</td>\n",
       "      <td>1.0</td>\n",
       "      <td>1.0</td>\n",
       "      <td>0.0</td>\n",
       "      <td>1.0</td>\n",
       "      <td>1.0</td>\n",
       "      <td>1.0</td>\n",
       "      <td>0.0</td>\n",
       "      <td>0.0</td>\n",
       "    </tr>\n",
       "    <tr>\n",
       "      <th>4</th>\n",
       "      <td>2.0</td>\n",
       "      <td>26.0</td>\n",
       "      <td>13.0</td>\n",
       "      <td>0.0</td>\n",
       "      <td>1.0</td>\n",
       "      <td>1.0</td>\n",
       "      <td>1.0</td>\n",
       "      <td>0.0</td>\n",
       "      <td>1.0</td>\n",
       "      <td>1.0</td>\n",
       "      <td>1.0</td>\n",
       "      <td>0.0</td>\n",
       "      <td>0.0</td>\n",
       "    </tr>\n",
       "  </tbody>\n",
       "</table>\n",
       "</div>"
      ],
      "text/plain": [
       "   Sex   Age   BMI  Diabetes_binary  HighBP  HighChol  CholCheck  Smoker  \\\n",
       "0  2.0  70.0   9.0              1.0     1.0       1.0        1.0     0.0   \n",
       "1  2.0  60.0  11.0              1.0     1.0       1.0        1.0     0.0   \n",
       "2  2.0  50.0  12.0              1.0     1.0       1.0        1.0     0.0   \n",
       "3  2.0  42.0  11.0              0.0     1.0       1.0        1.0     0.0   \n",
       "4  2.0  26.0  13.0              0.0     1.0       1.0        1.0     0.0   \n",
       "\n",
       "   PhysActivity  Fruits  Veggies  HvyAlcoholConsump  HeartDiseaseorAttack  \n",
       "0           1.0     1.0      1.0                0.0                   0.0  \n",
       "1           1.0     1.0      1.0                0.0                   0.0  \n",
       "2           1.0     1.0      1.0                0.0                   0.0  \n",
       "3           1.0     1.0      1.0                0.0                   0.0  \n",
       "4           1.0     1.0      1.0                0.0                   0.0  "
      ]
     },
     "execution_count": 57,
     "metadata": {},
     "output_type": "execute_result"
    }
   ],
   "source": [
    "merged_df.head()"
   ]
  },
  {
   "cell_type": "code",
   "execution_count": 58,
   "id": "9f324f82-7562-434c-9b4f-cd786c2c421e",
   "metadata": {},
   "outputs": [
    {
     "name": "stdout",
     "output_type": "stream",
     "text": [
      "Index(['Sex', 'Age', 'BMI', 'HighBP', 'HighChol', 'CholCheck', 'Smoker',\n",
      "       'PhysActivity', 'Fruits', 'Veggies', 'HvyAlcoholConsump',\n",
      "       'HeartDiseaseorAttack', 'Diabetes_binary'],\n",
      "      dtype='object')\n"
     ]
    }
   ],
   "source": [
    "# Reorder columns to place 'Diabetes_binary' at the end\n",
    "columns = [col for col in merged_df.columns if col != 'Diabetes_binary'] + ['Diabetes_binary']\n",
    "merged_df = merged_df[columns]\n",
    "\n",
    "# Verify the new column order\n",
    "print(merged_df.columns)\n"
   ]
  },
  {
   "cell_type": "code",
   "execution_count": 61,
   "id": "3ae95086-2a96-41ce-aaaf-c40741dea1fa",
   "metadata": {},
   "outputs": [
    {
     "name": "stdout",
     "output_type": "stream",
     "text": [
      "Dataset exported successfully to 'merged_diabetes_data.csv'\n"
     ]
    }
   ],
   "source": [
    "# Export the merged dataset to a CSV file\n",
    "merged_df.to_csv('merged_diabetes_dataset.csv', index=False)\n",
    "\n",
    "print(\"Dataset exported successfully to 'merged_diabetes_data.csv'\")\n"
   ]
  },
  {
   "cell_type": "code",
   "execution_count": null,
   "id": "0c27e682-ccfe-44ff-980a-ba8e277bf1d0",
   "metadata": {},
   "outputs": [],
   "source": []
  }
 ],
 "metadata": {
  "kernelspec": {
   "display_name": "Python 3 (ipykernel)",
   "language": "python",
   "name": "python3"
  },
  "language_info": {
   "codemirror_mode": {
    "name": "ipython",
    "version": 3
   },
   "file_extension": ".py",
   "mimetype": "text/x-python",
   "name": "python",
   "nbconvert_exporter": "python",
   "pygments_lexer": "ipython3",
   "version": "3.9.12"
  }
 },
 "nbformat": 4,
 "nbformat_minor": 5
}

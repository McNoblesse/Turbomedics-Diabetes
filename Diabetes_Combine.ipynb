{
 "cells": [
  {
   "cell_type": "code",
   "execution_count": 17,
   "id": "353ec70f-0b56-446d-bc98-f263c7e8fafa",
   "metadata": {},
   "outputs": [],
   "source": [
    "# Libraries for data loading, data manipulation and data visulisation\n",
    "import pandas as pd  # Data processing and manipulation \n",
    "import matplotlib.pyplot as plt  # Data visualization\n",
    "import seaborn as sns  # Statistical data visualization\n",
    "import numpy as np  # Numerical operations and linear algebra \n",
    "\n",
    "# Libraries for data preparation and model building\n",
    "from scipy.stats import norm  # Statistical functions\n",
    "from sklearn.preprocessing import StandardScaler  # Data preprocessing\n",
    "import warnings  # Warning handling\n",
    "warnings.filterwarnings('ignore')  # Ignore warnings"
   ]
  },
  {
   "cell_type": "markdown",
   "id": "5f3a05ec-e240-4fb9-a875-5a47cabc51da",
   "metadata": {},
   "source": [
    "### Loading Turbomedics Dataset"
   ]
  },
  {
   "cell_type": "code",
   "execution_count": 18,
   "id": "1c3bb376-aa49-4f1e-866b-a89886dd657c",
   "metadata": {},
   "outputs": [],
   "source": [
    "# load the data, used the pandas read_csv() to import our dataset \n",
    "data = pd.read_excel('DiabetesDB.xlsx', sheet_name=None)\n",
    "#df.head() #Preview the dataset"
   ]
  },
  {
   "cell_type": "code",
   "execution_count": 19,
   "id": "aedb8a6e-90be-43a3-8219-9a7187beae77",
   "metadata": {},
   "outputs": [],
   "source": [
    "# Cocantenation\n",
    "df_Original = pd.concat(data.values(), ignore_index=True)"
   ]
  },
  {
   "cell_type": "markdown",
   "id": "fe84bf04-4447-4367-9784-ec249f3c0dc2",
   "metadata": {},
   "source": [
    "### Loading Additional Dataset From Open Source"
   ]
  },
  {
   "cell_type": "code",
   "execution_count": 20,
   "id": "2f131646-fb56-44e9-9ce4-4ea557158e88",
   "metadata": {},
   "outputs": [],
   "source": [
    "# load the data, used the pandas read_csv() to import our dataset \n",
    "df_Extra = pd.read_csv('DiabetesDB_Extra.csv')\n",
    "#df.head() #Preview the dataset"
   ]
  },
  {
   "cell_type": "code",
   "execution_count": 21,
   "id": "a07aca6a-e953-4c75-b38d-0c4c238bde2a",
   "metadata": {},
   "outputs": [
    {
     "data": {
      "text/plain": [
       "Index(['Diabetes_binary', 'HighBP', 'HighChol', 'CholCheck', 'BMI', 'Smoker',\n",
       "       'Stroke', 'HeartDiseaseorAttack', 'PhysActivity', 'Fruits', 'Veggies',\n",
       "       'HvyAlcoholConsump', 'AnyHealthcare', 'NoDocbcCost', 'GenHlth',\n",
       "       'MentHlth', 'PhysHlth', 'DiffWalk', 'Sex', 'Age', 'Education',\n",
       "       'Income'],\n",
       "      dtype='object')"
      ]
     },
     "execution_count": 21,
     "metadata": {},
     "output_type": "execute_result"
    }
   ],
   "source": [
    "df_Extra.columns"
   ]
  },
  {
   "cell_type": "code",
   "execution_count": 22,
   "id": "86034e6c-655e-44c7-b382-e4adebeb8b23",
   "metadata": {},
   "outputs": [],
   "source": [
    "# Step 1: Create 'Full_Name' column\n",
    "df_Original['FULL_NAME'] = df_Original['NAME '].fillna('') + ' ' + df_Original['SURNAME'].fillna('')\n",
    "\n",
    "# Step 2: Reorder columns to place 'Full_Name' first\n",
    "columns = ['FULL_NAME'] + [col for col in df_Original.columns if col not in ['FULL_NAME']]\n",
    "df_Original = df_Original[columns]\n"
   ]
  },
  {
   "cell_type": "code",
   "execution_count": 23,
   "id": "a3a779eb-86ce-4dc9-98ef-9cdeb8c3365a",
   "metadata": {},
   "outputs": [],
   "source": [
    "df_Original = df_Original.drop(['FULL_NAME', 'NAME ', 'SURNAME', 'PHONE ', 'EMAIL','STATE OF ORIGIN', 'NAME', 'PHONE CALL ', 'CONTACT', 'RELATIONSHIP', 'FILE  LINK'], axis=1)"
   ]
  },
  {
   "cell_type": "markdown",
   "id": "672efa0a-b246-4b73-a6a3-b4c9ebe69f86",
   "metadata": {},
   "source": [
    "#### COde for BMI"
   ]
  },
  {
   "cell_type": "code",
   "execution_count": 24,
   "id": "9feccce0-0d45-4d0c-afd2-9447300a791a",
   "metadata": {},
   "outputs": [],
   "source": [
    "import re\n",
    "\n",
    "def clean_and_convert_to_meters(value):\n",
    "    # Remove non-numeric characters and decimal points\n",
    "    cleaned_value = re.sub(r'\\D', '', str(value))\n",
    "    \n",
    "    if cleaned_value:\n",
    "        # Convert to float and treat it as centimeters\n",
    "        height_in_cm = float(cleaned_value)\n",
    "        # Convert cm to meters\n",
    "        return height_in_cm / 100\n",
    "    else:\n",
    "        return None  # Return None if value is empty or non-numeric\n",
    "\n",
    "# Apply the function to the 'height' column\n",
    "df_Original['HEIGHT'] = df_Original['HEIGHT'].apply(clean_and_convert_to_meters)\n",
    "\n",
    "\n",
    "# Apply the function to the 'height(cm)' column\n",
    "#df_Original['HEIGHT (cm)'] = df_Original['HEIGHT (cm)'].apply(clean_and_convert_to_meters)\n",
    "\n"
   ]
  },
  {
   "cell_type": "code",
   "execution_count": 25,
   "id": "f2550d91-3c33-4858-ab6a-d9315c487c92",
   "metadata": {},
   "outputs": [],
   "source": [
    "# Create a new 'height' column\n",
    "#df_Original['HEIGHT'] = df_Original['HEIGHT'].fillna(df_Original['HEIGHT (cm)'])\n",
    "\n",
    "# Drop the 'height (cm)' column now that data is merged\n",
    "#df_Original.drop(columns=['HEIGHT (cm)'], inplace=True)\n",
    "\n",
    "# Calculate the mean height from available values and round to 2 decimal places\n",
    "mean_height = round(df_Original['HEIGHT'].mean(), 2)\n",
    "\n",
    "# Fill missing values in 'height' with the rounded mean\n",
    "df_Original['HEIGHT'].fillna(mean_height, inplace=True)"
   ]
  },
  {
   "cell_type": "code",
   "execution_count": 26,
   "id": "a48051d6-8a2e-4c9d-83be-ef613cb8859b",
   "metadata": {},
   "outputs": [],
   "source": [
    "# Function to remove non-numeric characters from weight column\n",
    "def clean_weight(value):\n",
    "    # Remove all non-numeric characters, keep only digits and decimal points\n",
    "    cleaned_value = re.sub(r'[^0-9.]', '', str(value))\n",
    "    return float(cleaned_value) if cleaned_value else None\n",
    "\n",
    "# Apply the function to the 'weight' column\n",
    "df_Original['WEIGHT'] = df_Original['WEIGHT'].apply(clean_weight)"
   ]
  },
  {
   "cell_type": "code",
   "execution_count": 27,
   "id": "2de41572-46f1-4713-ac2d-a45a5ea0d114",
   "metadata": {},
   "outputs": [],
   "source": [
    "# Calculate BMI and add it as a new column in the DataFrame\n",
    "df_Original['BMI'] = df_Original['WEIGHT'] / (df_Original['HEIGHT'] ** 2)\n",
    "\n",
    "# Round BMI to 2 decimal places\n",
    "df_Original['BMI'] = df_Original['BMI'].round(2)"
   ]
  },
  {
   "cell_type": "code",
   "execution_count": 28,
   "id": "7063947d-ae2d-4cfe-bacb-d7c6a3971078",
   "metadata": {},
   "outputs": [
    {
     "data": {
      "text/html": [
       "<div>\n",
       "<style scoped>\n",
       "    .dataframe tbody tr th:only-of-type {\n",
       "        vertical-align: middle;\n",
       "    }\n",
       "\n",
       "    .dataframe tbody tr th {\n",
       "        vertical-align: top;\n",
       "    }\n",
       "\n",
       "    .dataframe thead th {\n",
       "        text-align: right;\n",
       "    }\n",
       "</style>\n",
       "<table border=\"1\" class=\"dataframe\">\n",
       "  <thead>\n",
       "    <tr style=\"text-align: right;\">\n",
       "      <th></th>\n",
       "      <th>GENDER</th>\n",
       "      <th>YOB</th>\n",
       "      <th>GLUCOSE</th>\n",
       "      <th>BLOOD P.</th>\n",
       "      <th>BMI</th>\n",
       "      <th>HEIGHT</th>\n",
       "      <th>WEIGHT</th>\n",
       "    </tr>\n",
       "  </thead>\n",
       "  <tbody>\n",
       "    <tr>\n",
       "      <th>0</th>\n",
       "      <td>NaN</td>\n",
       "      <td>70 YEARS</td>\n",
       "      <td>8.2MMOL</td>\n",
       "      <td>104/67MMHG</td>\n",
       "      <td>0.61</td>\n",
       "      <td>8.9</td>\n",
       "      <td>48.3</td>\n",
       "    </tr>\n",
       "    <tr>\n",
       "      <th>1</th>\n",
       "      <td>NaN</td>\n",
       "      <td>60 YRS</td>\n",
       "      <td>10.1MMOL</td>\n",
       "      <td>127/74MMHG</td>\n",
       "      <td>0.79</td>\n",
       "      <td>8.9</td>\n",
       "      <td>62.7</td>\n",
       "    </tr>\n",
       "    <tr>\n",
       "      <th>2</th>\n",
       "      <td>NaN</td>\n",
       "      <td>50 YRS</td>\n",
       "      <td>7.3MM0L</td>\n",
       "      <td>90/60MMHG</td>\n",
       "      <td>0.87</td>\n",
       "      <td>8.9</td>\n",
       "      <td>68.9</td>\n",
       "    </tr>\n",
       "    <tr>\n",
       "      <th>3</th>\n",
       "      <td>NaN</td>\n",
       "      <td>1982</td>\n",
       "      <td>6.9MMOL</td>\n",
       "      <td>123/79MMGH</td>\n",
       "      <td>0.75</td>\n",
       "      <td>8.9</td>\n",
       "      <td>59.8</td>\n",
       "    </tr>\n",
       "    <tr>\n",
       "      <th>4</th>\n",
       "      <td>NaN</td>\n",
       "      <td>1998</td>\n",
       "      <td>4.4MMOL</td>\n",
       "      <td>104/80MMHG</td>\n",
       "      <td>0.91</td>\n",
       "      <td>8.9</td>\n",
       "      <td>72.4</td>\n",
       "    </tr>\n",
       "  </tbody>\n",
       "</table>\n",
       "</div>"
      ],
      "text/plain": [
       "  GENDER      YOB   GLUCOSE     BLOOD P.   BMI  HEIGHT  WEIGHT\n",
       "0    NaN  70 YEARS   8.2MMOL  104/67MMHG  0.61     8.9    48.3\n",
       "1    NaN    60 YRS  10.1MMOL  127/74MMHG  0.79     8.9    62.7\n",
       "2    NaN    50 YRS   7.3MM0L   90/60MMHG  0.87     8.9    68.9\n",
       "3    NaN      1982   6.9MMOL  123/79MMGH  0.75     8.9    59.8\n",
       "4    NaN      1998   4.4MMOL  104/80MMHG  0.91     8.9    72.4"
      ]
     },
     "execution_count": 28,
     "metadata": {},
     "output_type": "execute_result"
    }
   ],
   "source": [
    "df_Original.head()"
   ]
  },
  {
   "cell_type": "markdown",
   "id": "5ad371a2-51c8-4c4a-8eae-2f2a910d361a",
   "metadata": {},
   "source": [
    "### Code to Clean Gender Column"
   ]
  },
  {
   "cell_type": "code",
   "execution_count": 29,
   "id": "19b1538e-1a6e-432f-a0a8-8abf34f3308a",
   "metadata": {},
   "outputs": [],
   "source": [
    "# Fill missing values in 'Gender' with 'Unknown'\n",
    "df_Original['GENDER'].fillna('Unknown', inplace=True)\n",
    "\n",
    "# Define mapping for 'Male' and 'Female', with 'Unknown' as a separate category if needed\n",
    "gender_mapping = {'MALE': 0, 'FEMALE': 1, 'MAKE': 0, 'Unknown': 0, 'FAMELE': 1, 'FEMAE': 1}\n",
    "df_Original['GENDER'] = df_Original['GENDER'].map(gender_mapping)\n"
   ]
  },
  {
   "cell_type": "code",
   "execution_count": 30,
   "id": "d3cc1299-ed3c-4ee4-afa6-2448723e11b7",
   "metadata": {},
   "outputs": [],
   "source": [
    "# Rename 'GENDER' to 'Sex' in the old dataset\n",
    "df_Original.rename(columns={'GENDER': 'Sex'}, inplace=True)\n"
   ]
  },
  {
   "cell_type": "markdown",
   "id": "315d6a31-a625-444f-b1fe-cc30d115ee7b",
   "metadata": {},
   "source": [
    "### Code to Clean Age Column"
   ]
  },
  {
   "cell_type": "code",
   "execution_count": 31,
   "id": "7190e96b-703b-4274-9a7b-331c7ab09251",
   "metadata": {},
   "outputs": [],
   "source": [
    "from datetime import datetime\n",
    "\n",
    "# Sample data with 'YOB' column (containing both year of birth and age)\n",
    "#data = {\n",
    "    #'YOB ': ['1995', '74 years', '1985', 'N/A', '30', '2000', '45 years', '1982', '56', 'unknown']\n",
    "#}\n",
    "#df = pd.DataFrame(data)\n",
    "\n",
    "# Get the current year\n",
    "current_year = datetime.now().year\n",
    "\n",
    "# Function to clean and convert the YOB data\n",
    "def clean_yob(value):\n",
    "    if isinstance(value, str):  # Check if the value is a string\n",
    "        # Try to extract the numeric part from the string\n",
    "        digits = ''.join([ch for ch in value if ch.isdigit()])\n",
    "        if len(digits) == 4:  # If it's a 4-digit number, assume it's a year of birth\n",
    "            return int(digits)\n",
    "        elif len(digits) > 0 and len(digits) < 3:  # If it's age (usually 2 digits), calculate YOB\n",
    "            try:\n",
    "                return current_year - int(digits)\n",
    "            except ValueError:\n",
    "                return None\n",
    "    elif isinstance(value, (int, float)):  # If the value is already numeric\n",
    "        if value < current_year:  # If the number is less than the current year, assume it's a year of birth\n",
    "            return int(value)\n",
    "    return None  # For any invalid cases (e.g., 'N/A', 'unknown', etc.)\n",
    "\n",
    "# Apply the function to clean the 'YOB' column\n",
    "df_Original['YOB_cleaned'] = df_Original['YOB '].apply(clean_yob)"
   ]
  },
  {
   "cell_type": "code",
   "execution_count": 32,
   "id": "394d4094-39a7-44fd-b3f4-644955baff6a",
   "metadata": {},
   "outputs": [],
   "source": [
    "# Assuming `df` is the DataFrame with the cleaned 'YOB_cleaned' column\n",
    "current_year = datetime.now().year\n",
    "\n",
    "# Calculate age by subtracting the year of birth from the current year\n",
    "df_Original['Age'] = current_year - df_Original['YOB_cleaned']\n",
    "\n",
    "# Convert the 'Age' column to integer, handling missing values\n",
    "df_Original['Age'] = df_Original['Age'].fillna(df_Original['Age'].median()).astype(int)\n",
    "\n"
   ]
  },
  {
   "cell_type": "markdown",
   "id": "ff560b6e-1d63-4020-999d-b48f151a2723",
   "metadata": {},
   "source": [
    "### Code to Clean Glucose Column"
   ]
  },
  {
   "cell_type": "code",
   "execution_count": 33,
   "id": "f4996044-7cd3-402d-91d2-0d4a6352652e",
   "metadata": {},
   "outputs": [
    {
     "name": "stdout",
     "output_type": "stream",
     "text": [
      "0        8.20\n",
      "1       10.10\n",
      "2        6.18\n",
      "3        6.90\n",
      "4        4.40\n",
      "        ...  \n",
      "2242     6.30\n",
      "2243     6.30\n",
      "2244     5.50\n",
      "2245     7.20\n",
      "2246     7.40\n",
      "Name: GLUCOSE , Length: 2247, dtype: float64\n"
     ]
    }
   ],
   "source": [
    "# First, clean the 'glucose' column\n",
    "df_Original['GLUCOSE '] = df_Original['GLUCOSE '].str.replace('MMOL', '').str.strip()  # Remove 'MMOL' and any extra spaces\n",
    "df_Original['GLUCOSE '] = pd.to_numeric(df_Original['GLUCOSE '], errors='coerce')      # Convert to numeric, set invalid parsing as NaN\n",
    "\n",
    "# Fill missing values with the mean (you could also use median or another method)\n",
    "df_Original['GLUCOSE '].fillna(df_Original['GLUCOSE '].mean(), inplace=True)\n",
    "\n",
    "# Round the 'glucose' values to 2 decimal places\n",
    "df_Original['GLUCOSE '] = df_Original['GLUCOSE '].round(2)\n",
    "\n",
    "# Display the cleaned and rounded 'glucose' column\n",
    "print(df_Original['GLUCOSE '])"
   ]
  },
  {
   "cell_type": "markdown",
   "id": "61d5175e-5d62-4ad1-9e2b-fdbfb3657b0a",
   "metadata": {},
   "source": [
    "### Code to Clean Blood Pressure Column"
   ]
  },
  {
   "cell_type": "code",
   "execution_count": 34,
   "id": "281fe85b-0ec6-4f54-83cb-57393f0c7eb0",
   "metadata": {},
   "outputs": [
    {
     "name": "stdout",
     "output_type": "stream",
     "text": [
      "      Systolic  Diastolic\n",
      "0        104.0       67.0\n",
      "1        127.0       74.0\n",
      "2         90.0       60.0\n",
      "3        123.0        NaN\n",
      "4        104.0       80.0\n",
      "...        ...        ...\n",
      "2242     155.0       92.0\n",
      "2243     117.0       79.0\n",
      "2244     115.0       84.0\n",
      "2245     140.0       67.0\n",
      "2246     136.0       86.0\n",
      "\n",
      "[2247 rows x 2 columns]\n"
     ]
    }
   ],
   "source": [
    "# Remove 'MMHG' and any extra spaces\n",
    "df_Original['BLOOD P.'] = df_Original['BLOOD P.'].str.replace('MMHG', '').str.strip()\n",
    "\n",
    "# Split the blood pressure values into systolic and diastolic columns\n",
    "df_Original[['Systolic', 'Diastolic']] = df_Original['BLOOD P.'].str.split('/', expand=True)\n",
    "\n",
    "# Convert both columns to numeric\n",
    "df_Original['Systolic'] = pd.to_numeric(df_Original['Systolic'], errors='coerce')\n",
    "df_Original['Diastolic'] = pd.to_numeric(df_Original['Diastolic'], errors='coerce')\n",
    "\n",
    "# Optional: Round the values to 2 decimal places (if necessary)\n",
    "df_Original['Systolic'] = df_Original['Systolic'].round(2)\n",
    "df_Original['Diastolic'] = df_Original['Diastolic'].round(2)\n",
    "\n",
    "# Optionally, you can drop the original 'BLOOD P.' column\n",
    "df_Original.drop(columns=['BLOOD P.'], inplace=True)\n",
    "\n",
    "# Display the cleaned data\n",
    "print(df_Original[['Systolic', 'Diastolic']])\n"
   ]
  },
  {
   "cell_type": "markdown",
   "id": "39504b37-5619-4d45-bd2f-5546a4b56eb9",
   "metadata": {},
   "source": [
    "### FINAL ORDERED COLUMNS"
   ]
  },
  {
   "cell_type": "code",
   "execution_count": 36,
   "id": "93de1909-4f35-4d6a-ab0a-d40fd63e1f28",
   "metadata": {},
   "outputs": [
    {
     "name": "stdout",
     "output_type": "stream",
     "text": [
      "   Sex  Age  GLUCOSE   Systolic  Diastolic  HEIGHT  WEIGHT   BMI\n",
      "0  0.0   70      8.20     104.0       67.0     8.9    48.3  0.61\n",
      "1  0.0   60     10.10     127.0       74.0     8.9    62.7  0.79\n",
      "2  0.0   50      6.18      90.0       60.0     8.9    68.9  0.87\n",
      "3  0.0   42      6.90     123.0        NaN     8.9    59.8  0.75\n",
      "4  0.0   26      4.40     104.0       80.0     8.9    72.4  0.91\n"
     ]
    }
   ],
   "source": [
    "# Remove unnecessary columns\n",
    "#df_Original.drop(columns=['YOB ', 'YOB_cleaned'], inplace=True)\n",
    "\n",
    "# Define the new column order\n",
    "new_order = ['Sex', 'Age', 'GLUCOSE ', 'Systolic', 'Diastolic', 'HEIGHT', 'WEIGHT', 'BMI']\n",
    "\n",
    "# Rearrange the columns\n",
    "df_Original = df_Original[new_order]\n",
    "\n",
    "# Display the updated DataFrame\n",
    "print(df_Original.head())\n"
   ]
  },
  {
   "cell_type": "markdown",
   "id": "7b2bce46-e205-4821-8d84-0c275b777b60",
   "metadata": {},
   "source": [
    "### Creating column for Diabetes Status"
   ]
  },
  {
   "cell_type": "code",
   "execution_count": 37,
   "id": "4eda1b71-7406-46cf-96ec-b26cb46cd1ad",
   "metadata": {},
   "outputs": [],
   "source": [
    "df_Original['Diabetes_binary'] = ((df_Original['BMI'] > 30) | \n",
    "                  (df_Original['Systolic'] > 140) | \n",
    "                  (df_Original['Diastolic'] > 90) | \n",
    "                  (df_Original['Age'] > 45)).astype(int)\n",
    "df_Original['Diabetes_binary'] = df_Original['Diabetes_binary'].astype(int)  # Convert to 0 (no diabetes) and 1 (diabetes)"
   ]
  },
  {
   "cell_type": "code",
   "execution_count": 38,
   "id": "a5320252-f571-4e94-9c2b-b8674a1f9ae2",
   "metadata": {},
   "outputs": [
    {
     "data": {
      "text/plain": [
       "Index(['Sex', 'Age', 'GLUCOSE ', 'Systolic', 'Diastolic', 'HEIGHT', 'WEIGHT',\n",
       "       'BMI', 'Diabetes_binary'],\n",
       "      dtype='object')"
      ]
     },
     "execution_count": 38,
     "metadata": {},
     "output_type": "execute_result"
    }
   ],
   "source": [
    "df_Original.columns"
   ]
  },
  {
   "cell_type": "markdown",
   "id": "5b5a888e-eb68-4232-90ad-2435e9ff2413",
   "metadata": {},
   "source": [
    "### CLEANING AND PROCESSING THE NEW DATASET"
   ]
  },
  {
   "cell_type": "code",
   "execution_count": 39,
   "id": "49dbd180-2495-41aa-bdf8-a05be556266d",
   "metadata": {},
   "outputs": [
    {
     "data": {
      "text/plain": [
       "Index(['Diabetes_binary', 'HighBP', 'HighChol', 'CholCheck', 'BMI', 'Smoker',\n",
       "       'Stroke', 'HeartDiseaseorAttack', 'PhysActivity', 'Fruits', 'Veggies',\n",
       "       'HvyAlcoholConsump', 'AnyHealthcare', 'NoDocbcCost', 'GenHlth',\n",
       "       'MentHlth', 'PhysHlth', 'DiffWalk', 'Sex', 'Age', 'Education',\n",
       "       'Income'],\n",
       "      dtype='object')"
      ]
     },
     "execution_count": 39,
     "metadata": {},
     "output_type": "execute_result"
    }
   ],
   "source": [
    "df_Extra.columns"
   ]
  },
  {
   "cell_type": "code",
   "execution_count": 40,
   "id": "67889794-13c4-4469-a761-26de1d446063",
   "metadata": {},
   "outputs": [],
   "source": [
    "relevant_columns = [\n",
    "    'Diabetes_binary', 'HighBP', 'HighChol', 'CholCheck', 'BMI', 'Smoker',\n",
    "    'PhysActivity', 'Fruits', 'Veggies', 'HvyAlcoholConsump',\n",
    "    'HeartDiseaseorAttack', 'Age', 'Sex'\n",
    "]\n",
    "df_new = df_Extra[relevant_columns]\n"
   ]
  },
  {
   "cell_type": "code",
   "execution_count": 41,
   "id": "38f974e4-faff-49fb-a706-f066332aacdd",
   "metadata": {},
   "outputs": [
    {
     "data": {
      "text/html": [
       "<div>\n",
       "<style scoped>\n",
       "    .dataframe tbody tr th:only-of-type {\n",
       "        vertical-align: middle;\n",
       "    }\n",
       "\n",
       "    .dataframe tbody tr th {\n",
       "        vertical-align: top;\n",
       "    }\n",
       "\n",
       "    .dataframe thead th {\n",
       "        text-align: right;\n",
       "    }\n",
       "</style>\n",
       "<table border=\"1\" class=\"dataframe\">\n",
       "  <thead>\n",
       "    <tr style=\"text-align: right;\">\n",
       "      <th></th>\n",
       "      <th>Diabetes_binary</th>\n",
       "      <th>HighBP</th>\n",
       "      <th>HighChol</th>\n",
       "      <th>CholCheck</th>\n",
       "      <th>BMI</th>\n",
       "      <th>Smoker</th>\n",
       "      <th>PhysActivity</th>\n",
       "      <th>Fruits</th>\n",
       "      <th>Veggies</th>\n",
       "      <th>HvyAlcoholConsump</th>\n",
       "      <th>HeartDiseaseorAttack</th>\n",
       "      <th>Age</th>\n",
       "      <th>Sex</th>\n",
       "    </tr>\n",
       "  </thead>\n",
       "  <tbody>\n",
       "    <tr>\n",
       "      <th>0</th>\n",
       "      <td>0.0</td>\n",
       "      <td>1.0</td>\n",
       "      <td>0.0</td>\n",
       "      <td>1.0</td>\n",
       "      <td>26.0</td>\n",
       "      <td>0.0</td>\n",
       "      <td>1.0</td>\n",
       "      <td>0.0</td>\n",
       "      <td>1.0</td>\n",
       "      <td>0.0</td>\n",
       "      <td>0.0</td>\n",
       "      <td>4.0</td>\n",
       "      <td>1.0</td>\n",
       "    </tr>\n",
       "    <tr>\n",
       "      <th>1</th>\n",
       "      <td>0.0</td>\n",
       "      <td>1.0</td>\n",
       "      <td>1.0</td>\n",
       "      <td>1.0</td>\n",
       "      <td>26.0</td>\n",
       "      <td>1.0</td>\n",
       "      <td>0.0</td>\n",
       "      <td>1.0</td>\n",
       "      <td>0.0</td>\n",
       "      <td>0.0</td>\n",
       "      <td>0.0</td>\n",
       "      <td>12.0</td>\n",
       "      <td>1.0</td>\n",
       "    </tr>\n",
       "    <tr>\n",
       "      <th>2</th>\n",
       "      <td>0.0</td>\n",
       "      <td>0.0</td>\n",
       "      <td>0.0</td>\n",
       "      <td>1.0</td>\n",
       "      <td>26.0</td>\n",
       "      <td>0.0</td>\n",
       "      <td>1.0</td>\n",
       "      <td>1.0</td>\n",
       "      <td>1.0</td>\n",
       "      <td>0.0</td>\n",
       "      <td>0.0</td>\n",
       "      <td>13.0</td>\n",
       "      <td>1.0</td>\n",
       "    </tr>\n",
       "    <tr>\n",
       "      <th>3</th>\n",
       "      <td>0.0</td>\n",
       "      <td>1.0</td>\n",
       "      <td>1.0</td>\n",
       "      <td>1.0</td>\n",
       "      <td>28.0</td>\n",
       "      <td>1.0</td>\n",
       "      <td>1.0</td>\n",
       "      <td>1.0</td>\n",
       "      <td>1.0</td>\n",
       "      <td>0.0</td>\n",
       "      <td>0.0</td>\n",
       "      <td>11.0</td>\n",
       "      <td>1.0</td>\n",
       "    </tr>\n",
       "    <tr>\n",
       "      <th>4</th>\n",
       "      <td>0.0</td>\n",
       "      <td>0.0</td>\n",
       "      <td>0.0</td>\n",
       "      <td>1.0</td>\n",
       "      <td>29.0</td>\n",
       "      <td>1.0</td>\n",
       "      <td>1.0</td>\n",
       "      <td>1.0</td>\n",
       "      <td>1.0</td>\n",
       "      <td>0.0</td>\n",
       "      <td>0.0</td>\n",
       "      <td>8.0</td>\n",
       "      <td>0.0</td>\n",
       "    </tr>\n",
       "  </tbody>\n",
       "</table>\n",
       "</div>"
      ],
      "text/plain": [
       "   Diabetes_binary  HighBP  HighChol  CholCheck   BMI  Smoker  PhysActivity  \\\n",
       "0              0.0     1.0       0.0        1.0  26.0     0.0           1.0   \n",
       "1              0.0     1.0       1.0        1.0  26.0     1.0           0.0   \n",
       "2              0.0     0.0       0.0        1.0  26.0     0.0           1.0   \n",
       "3              0.0     1.0       1.0        1.0  28.0     1.0           1.0   \n",
       "4              0.0     0.0       0.0        1.0  29.0     1.0           1.0   \n",
       "\n",
       "   Fruits  Veggies  HvyAlcoholConsump  HeartDiseaseorAttack   Age  Sex  \n",
       "0     0.0      1.0                0.0                   0.0   4.0  1.0  \n",
       "1     1.0      0.0                0.0                   0.0  12.0  1.0  \n",
       "2     1.0      1.0                0.0                   0.0  13.0  1.0  \n",
       "3     1.0      1.0                0.0                   0.0  11.0  1.0  \n",
       "4     1.0      1.0                0.0                   0.0   8.0  0.0  "
      ]
     },
     "execution_count": 41,
     "metadata": {},
     "output_type": "execute_result"
    }
   ],
   "source": [
    "df_new.head()"
   ]
  },
  {
   "cell_type": "markdown",
   "id": "a15c9ee2-6901-4a53-89b2-55d8e7537379",
   "metadata": {},
   "source": [
    "### Create New Columns in the Old Dataset"
   ]
  },
  {
   "cell_type": "code",
   "execution_count": 42,
   "id": "0b14114c-5da7-4870-b664-ed0ecdb163e8",
   "metadata": {},
   "outputs": [
    {
     "name": "stdout",
     "output_type": "stream",
     "text": [
      "   Sex  Age  GLUCOSE   Systolic  Diastolic  HEIGHT  WEIGHT   BMI  \\\n",
      "0  0.0   70      8.20     104.0       67.0     8.9    48.3  0.61   \n",
      "1  0.0   60     10.10     127.0       74.0     8.9    62.7  0.79   \n",
      "2  0.0   50      6.18      90.0       60.0     8.9    68.9  0.87   \n",
      "3  0.0   42      6.90     123.0        NaN     8.9    59.8  0.75   \n",
      "4  0.0   26      4.40     104.0       80.0     8.9    72.4  0.91   \n",
      "\n",
      "   Diabetes_binary  HighBP  HighChol  CholCheck  Smoker  PhysActivity  Fruits  \\\n",
      "0                1     NaN       NaN        NaN     NaN           NaN     NaN   \n",
      "1                1     NaN       NaN        NaN     NaN           NaN     NaN   \n",
      "2                1     NaN       NaN        NaN     NaN           NaN     NaN   \n",
      "3                0     NaN       NaN        NaN     NaN           NaN     NaN   \n",
      "4                0     NaN       NaN        NaN     NaN           NaN     NaN   \n",
      "\n",
      "   Veggies  HvyAlcoholConsump  HeartDiseaseorAttack  \n",
      "0      NaN                NaN                   NaN  \n",
      "1      NaN                NaN                   NaN  \n",
      "2      NaN                NaN                   NaN  \n",
      "3      NaN                NaN                   NaN  \n",
      "4      NaN                NaN                   NaN  \n"
     ]
    }
   ],
   "source": [
    "# Identify missing columns\n",
    "missing_columns = ['HighBP', 'HighChol', 'CholCheck', 'Smoker', \n",
    "                   'PhysActivity', 'Fruits', 'Veggies', \n",
    "                   'HvyAlcoholConsump', 'HeartDiseaseorAttack']\n",
    "\n",
    "# Create missing columns in the old dataset\n",
    "for col in missing_columns:\n",
    "    if col not in df_Original.columns:\n",
    "        df_Original[col] = np.nan  # Initialize with NaN\n",
    "\n",
    "# Populate 'Sex' from 'GENDER'\n",
    "# Assume 'Male' -> 1, 'Female' -> 0 (map accordingly)\n",
    "#df_Original['Sex'] = df_Original['GENDER'].map({'Male': 1, 'Female': 0}).fillna(np.nan)\n",
    "\n",
    "# Preview the updated old dataset\n",
    "print(df_Original.head())\n"
   ]
  },
  {
   "cell_type": "code",
   "execution_count": 43,
   "id": "1adedb8a-d6cb-4fb5-9b87-60112ffeb49c",
   "metadata": {},
   "outputs": [
    {
     "data": {
      "text/plain": [
       "Index(['Sex', 'Age', 'GLUCOSE ', 'Systolic', 'Diastolic', 'HEIGHT', 'WEIGHT',\n",
       "       'BMI', 'Diabetes_binary', 'HighBP', 'HighChol', 'CholCheck', 'Smoker',\n",
       "       'PhysActivity', 'Fruits', 'Veggies', 'HvyAlcoholConsump',\n",
       "       'HeartDiseaseorAttack'],\n",
       "      dtype='object')"
      ]
     },
     "execution_count": 43,
     "metadata": {},
     "output_type": "execute_result"
    }
   ],
   "source": [
    "df_Original.columns"
   ]
  },
  {
   "cell_type": "code",
   "execution_count": 44,
   "id": "9008c343-778e-4df4-88eb-93ab271ee342",
   "metadata": {},
   "outputs": [],
   "source": [
    "# Final list of columns in the new dataset\n",
    "new_dataset_columns = ['Sex', 'Age', 'GLUCOSE ', 'Systolic', 'Diastolic', \n",
    "    'HEIGHT', 'WEIGHT', 'BMI', 'Diabetes_binary', \n",
    "    'HighBP', 'HighChol', 'CholCheck', 'Smoker', 'PhysActivity', \n",
    "    'Fruits', 'Veggies', 'HvyAlcoholConsump', 'HeartDiseaseorAttack'\n",
    "]\n",
    "\n",
    "# Drop columns in the old dataset not present in the new dataset\n",
    "df_Original_cleaned = df_Original[[col for col in df_Original.columns if col in df_new]]\n"
   ]
  },
  {
   "cell_type": "code",
   "execution_count": 45,
   "id": "ee0ab62b-9e04-4702-862c-2cf419f298e5",
   "metadata": {},
   "outputs": [
    {
     "data": {
      "text/plain": [
       "Index(['Sex', 'Age', 'BMI', 'Diabetes_binary', 'HighBP', 'HighChol',\n",
       "       'CholCheck', 'Smoker', 'PhysActivity', 'Fruits', 'Veggies',\n",
       "       'HvyAlcoholConsump', 'HeartDiseaseorAttack'],\n",
       "      dtype='object')"
      ]
     },
     "execution_count": 45,
     "metadata": {},
     "output_type": "execute_result"
    }
   ],
   "source": [
    "df_Original_cleaned.columns"
   ]
  },
  {
   "cell_type": "code",
   "execution_count": 46,
   "id": "19129e19-bd14-4e65-be8e-13c40daef061",
   "metadata": {},
   "outputs": [],
   "source": [
    "finl_dataset_columns = ['Sex', 'Age', 'BMI', 'Diabetes_binary', 'HighBP', 'HighChol',\n",
    "       'CholCheck', 'Smoker', 'PhysActivity', 'Fruits', 'Veggies',\n",
    "       'HvyAlcoholConsump', 'HeartDiseaseorAttack']"
   ]
  },
  {
   "cell_type": "code",
   "execution_count": 47,
   "id": "436d7efe-a57a-446c-9498-877a0aeaea75",
   "metadata": {},
   "outputs": [],
   "source": [
    "# Reorder old dataset columns to match the new dataset\n",
    "df_Original_cleaned = df_Original_cleaned[finl_dataset_columns]\n",
    "\n",
    "# Reorder new dataset columns to ensure they match (optional, for safety)\n",
    "df_new_cleaned = df_new[finl_dataset_columns]\n"
   ]
  },
  {
   "cell_type": "code",
   "execution_count": 48,
   "id": "be8dc8bf-d803-4251-b2fe-870ce64026dc",
   "metadata": {},
   "outputs": [
    {
     "name": "stdout",
     "output_type": "stream",
     "text": [
      "Old Dataset Columns: Index(['Sex', 'Age', 'BMI', 'Diabetes_binary', 'HighBP', 'HighChol',\n",
      "       'CholCheck', 'Smoker', 'PhysActivity', 'Fruits', 'Veggies',\n",
      "       'HvyAlcoholConsump', 'HeartDiseaseorAttack'],\n",
      "      dtype='object')\n",
      "New Dataset Columns: Index(['Sex', 'Age', 'BMI', 'Diabetes_binary', 'HighBP', 'HighChol',\n",
      "       'CholCheck', 'Smoker', 'PhysActivity', 'Fruits', 'Veggies',\n",
      "       'HvyAlcoholConsump', 'HeartDiseaseorAttack'],\n",
      "      dtype='object')\n"
     ]
    }
   ],
   "source": [
    "# Final Preview\n",
    "print(\"Old Dataset Columns:\", df_Original_cleaned.columns)\n",
    "print(\"New Dataset Columns:\", df_new_cleaned.columns)"
   ]
  },
  {
   "cell_type": "code",
   "execution_count": 67,
   "id": "0efb9ce6-933b-469c-9957-2a7a1103c1c3",
   "metadata": {},
   "outputs": [
    {
     "name": "stdout",
     "output_type": "stream",
     "text": [
      "     Sex   Age    BMI  Diabetes_binary  HighBP  HighChol  CholCheck  Smoker  \\\n",
      "0    0.0  70.0   0.61              1.0     NaN       NaN        NaN     NaN   \n",
      "1    0.0  60.0   0.79              1.0     NaN       NaN        NaN     NaN   \n",
      "2    0.0  50.0   0.87              1.0     NaN       NaN        NaN     NaN   \n",
      "3    0.0  42.0   0.75              0.0     NaN       NaN        NaN     NaN   \n",
      "4    0.0  26.0   0.91              0.0     NaN       NaN        NaN     NaN   \n",
      "..   ...   ...    ...              ...     ...       ...        ...     ...   \n",
      "195  1.0  45.0  39.02              1.0     NaN       NaN        NaN     NaN   \n",
      "196  1.0  28.0  24.53              0.0     NaN       NaN        NaN     NaN   \n",
      "197  0.0  51.0  26.90              1.0     NaN       NaN        NaN     NaN   \n",
      "198  1.0  38.0  34.64              1.0     NaN       NaN        NaN     NaN   \n",
      "199  0.0  34.0  26.37              0.0     NaN       NaN        NaN     NaN   \n",
      "\n",
      "     PhysActivity  Fruits  Veggies  HvyAlcoholConsump  HeartDiseaseorAttack  \n",
      "0             NaN     NaN      NaN                NaN                   NaN  \n",
      "1             NaN     NaN      NaN                NaN                   NaN  \n",
      "2             NaN     NaN      NaN                NaN                   NaN  \n",
      "3             NaN     NaN      NaN                NaN                   NaN  \n",
      "4             NaN     NaN      NaN                NaN                   NaN  \n",
      "..            ...     ...      ...                ...                   ...  \n",
      "195           NaN     NaN      NaN                NaN                   NaN  \n",
      "196           NaN     NaN      NaN                NaN                   NaN  \n",
      "197           NaN     NaN      NaN                NaN                   NaN  \n",
      "198           NaN     NaN      NaN                NaN                   NaN  \n",
      "199           NaN     NaN      NaN                NaN                   NaN  \n",
      "\n",
      "[200 rows x 13 columns]\n"
     ]
    }
   ],
   "source": [
    "# Merge the datasets\n",
    "merged_df = pd.concat([df_Original_cleaned, df_new_cleaned], ignore_index=True)\n",
    "\n",
    "# Preview merged data\n",
    "print(merged_df.head(200))\n"
   ]
  },
  {
   "cell_type": "markdown",
   "id": "d626d624-b417-4204-b410-516f34588f75",
   "metadata": {},
   "source": [
    "# List of columns to fill missing values\n",
    "columns_to_fill = ['Sex', 'BMI',\n",
    "    'HighBP', 'HighChol', 'CholCheck', 'Smoker', 'PhysActivity',\n",
    "    'Fruits', 'Veggies', 'HvyAlcoholConsump', 'HeartDiseaseorAttack'\n",
    "]\n",
    "\n",
    "# Fill missing values with the mean for each column\n",
    "for col in columns_to_fill:\n",
    "    merged_df[col] = merged_df[col].fillna(merged_df[col].mean())\n",
    "\n",
    "# Verify that there are no missing values in the specified columns\n",
    "print(merged_df[columns_to_fill].isnull().sum())\n"
   ]
  },
  {
   "cell_type": "code",
   "execution_count": 68,
   "id": "849536a2-e673-4e76-9da5-b99f49913a3a",
   "metadata": {},
   "outputs": [
    {
     "name": "stdout",
     "output_type": "stream",
     "text": [
      "Sex                     0\n",
      "Age                     0\n",
      "BMI                     0\n",
      "Diabetes_binary         0\n",
      "HighBP                  0\n",
      "HighChol                0\n",
      "CholCheck               0\n",
      "Smoker                  0\n",
      "PhysActivity            0\n",
      "Fruits                  0\n",
      "Veggies                 0\n",
      "HvyAlcoholConsump       0\n",
      "HeartDiseaseorAttack    0\n",
      "dtype: int64\n"
     ]
    }
   ],
   "source": [
    "# Fill null values in each column with the mode\n",
    "for column in merged_df.columns:\n",
    "    if merged_df[column].isnull().sum() > 0:  # Check if there are null values\n",
    "        mode_value = merged_df[column].mode()[0]  # Calculate the mode\n",
    "        merged_df[column].fillna(mode_value, inplace=True)  # Fill nulls with the mode\n",
    "\n",
    "# Verify that there are no missing values\n",
    "print(merged_df.isnull().sum())\n",
    "\n"
   ]
  },
  {
   "cell_type": "code",
   "execution_count": 70,
   "id": "c9603a07-f6ac-4da4-a881-ec2793837dbc",
   "metadata": {},
   "outputs": [
    {
     "data": {
      "text/html": [
       "<div>\n",
       "<style scoped>\n",
       "    .dataframe tbody tr th:only-of-type {\n",
       "        vertical-align: middle;\n",
       "    }\n",
       "\n",
       "    .dataframe tbody tr th {\n",
       "        vertical-align: top;\n",
       "    }\n",
       "\n",
       "    .dataframe thead th {\n",
       "        text-align: right;\n",
       "    }\n",
       "</style>\n",
       "<table border=\"1\" class=\"dataframe\">\n",
       "  <thead>\n",
       "    <tr style=\"text-align: right;\">\n",
       "      <th></th>\n",
       "      <th>Sex</th>\n",
       "      <th>Age</th>\n",
       "      <th>BMI</th>\n",
       "      <th>Diabetes_binary</th>\n",
       "      <th>HighBP</th>\n",
       "      <th>HighChol</th>\n",
       "      <th>CholCheck</th>\n",
       "      <th>Smoker</th>\n",
       "      <th>PhysActivity</th>\n",
       "      <th>Fruits</th>\n",
       "      <th>Veggies</th>\n",
       "      <th>HvyAlcoholConsump</th>\n",
       "      <th>HeartDiseaseorAttack</th>\n",
       "    </tr>\n",
       "  </thead>\n",
       "  <tbody>\n",
       "    <tr>\n",
       "      <th>0</th>\n",
       "      <td>0.0</td>\n",
       "      <td>70.0</td>\n",
       "      <td>0.61</td>\n",
       "      <td>1.0</td>\n",
       "      <td>1.0</td>\n",
       "      <td>1.0</td>\n",
       "      <td>1.0</td>\n",
       "      <td>0.0</td>\n",
       "      <td>1.0</td>\n",
       "      <td>1.0</td>\n",
       "      <td>1.0</td>\n",
       "      <td>0.0</td>\n",
       "      <td>0.0</td>\n",
       "    </tr>\n",
       "    <tr>\n",
       "      <th>1</th>\n",
       "      <td>0.0</td>\n",
       "      <td>60.0</td>\n",
       "      <td>0.79</td>\n",
       "      <td>1.0</td>\n",
       "      <td>1.0</td>\n",
       "      <td>1.0</td>\n",
       "      <td>1.0</td>\n",
       "      <td>0.0</td>\n",
       "      <td>1.0</td>\n",
       "      <td>1.0</td>\n",
       "      <td>1.0</td>\n",
       "      <td>0.0</td>\n",
       "      <td>0.0</td>\n",
       "    </tr>\n",
       "    <tr>\n",
       "      <th>2</th>\n",
       "      <td>0.0</td>\n",
       "      <td>50.0</td>\n",
       "      <td>0.87</td>\n",
       "      <td>1.0</td>\n",
       "      <td>1.0</td>\n",
       "      <td>1.0</td>\n",
       "      <td>1.0</td>\n",
       "      <td>0.0</td>\n",
       "      <td>1.0</td>\n",
       "      <td>1.0</td>\n",
       "      <td>1.0</td>\n",
       "      <td>0.0</td>\n",
       "      <td>0.0</td>\n",
       "    </tr>\n",
       "    <tr>\n",
       "      <th>3</th>\n",
       "      <td>0.0</td>\n",
       "      <td>42.0</td>\n",
       "      <td>0.75</td>\n",
       "      <td>0.0</td>\n",
       "      <td>1.0</td>\n",
       "      <td>1.0</td>\n",
       "      <td>1.0</td>\n",
       "      <td>0.0</td>\n",
       "      <td>1.0</td>\n",
       "      <td>1.0</td>\n",
       "      <td>1.0</td>\n",
       "      <td>0.0</td>\n",
       "      <td>0.0</td>\n",
       "    </tr>\n",
       "    <tr>\n",
       "      <th>4</th>\n",
       "      <td>0.0</td>\n",
       "      <td>26.0</td>\n",
       "      <td>0.91</td>\n",
       "      <td>0.0</td>\n",
       "      <td>1.0</td>\n",
       "      <td>1.0</td>\n",
       "      <td>1.0</td>\n",
       "      <td>0.0</td>\n",
       "      <td>1.0</td>\n",
       "      <td>1.0</td>\n",
       "      <td>1.0</td>\n",
       "      <td>0.0</td>\n",
       "      <td>0.0</td>\n",
       "    </tr>\n",
       "  </tbody>\n",
       "</table>\n",
       "</div>"
      ],
      "text/plain": [
       "   Sex   Age   BMI  Diabetes_binary  HighBP  HighChol  CholCheck  Smoker  \\\n",
       "0  0.0  70.0  0.61              1.0     1.0       1.0        1.0     0.0   \n",
       "1  0.0  60.0  0.79              1.0     1.0       1.0        1.0     0.0   \n",
       "2  0.0  50.0  0.87              1.0     1.0       1.0        1.0     0.0   \n",
       "3  0.0  42.0  0.75              0.0     1.0       1.0        1.0     0.0   \n",
       "4  0.0  26.0  0.91              0.0     1.0       1.0        1.0     0.0   \n",
       "\n",
       "   PhysActivity  Fruits  Veggies  HvyAlcoholConsump  HeartDiseaseorAttack  \n",
       "0           1.0     1.0      1.0                0.0                   0.0  \n",
       "1           1.0     1.0      1.0                0.0                   0.0  \n",
       "2           1.0     1.0      1.0                0.0                   0.0  \n",
       "3           1.0     1.0      1.0                0.0                   0.0  \n",
       "4           1.0     1.0      1.0                0.0                   0.0  "
      ]
     },
     "execution_count": 70,
     "metadata": {},
     "output_type": "execute_result"
    }
   ],
   "source": [
    "merged_df.head()"
   ]
  },
  {
   "cell_type": "code",
   "execution_count": 71,
   "id": "5b5693b2-ad0d-48ce-9ce3-b44341f7571d",
   "metadata": {},
   "outputs": [
    {
     "name": "stdout",
     "output_type": "stream",
     "text": [
      "Index(['Sex', 'Age', 'BMI', 'HighBP', 'HighChol', 'CholCheck', 'Smoker',\n",
      "       'PhysActivity', 'Fruits', 'Veggies', 'HvyAlcoholConsump',\n",
      "       'HeartDiseaseorAttack', 'Diabetes_binary'],\n",
      "      dtype='object')\n"
     ]
    }
   ],
   "source": [
    "# Reorder columns to place 'Diabetes_binary' at the end\n",
    "columns = [col for col in merged_df.columns if col != 'Diabetes_binary'] + ['Diabetes_binary']\n",
    "merged_df = merged_df[columns]\n",
    "\n",
    "# Verify the new column order\n",
    "print(merged_df.columns)\n"
   ]
  },
  {
   "cell_type": "markdown",
   "id": "a0041b1f-b358-486e-95d8-c92b75d10e8f",
   "metadata": {},
   "source": [
    "### FEATURE ENGINEERING"
   ]
  },
  {
   "cell_type": "code",
   "execution_count": 72,
   "id": "0573d4e2-7388-4268-8be3-f0caba130b08",
   "metadata": {},
   "outputs": [],
   "source": [
    "# Lifestyle Risk Score\n",
    "merged_df['Lifestyle_Risk'] = (\n",
    "    (1 - merged_df['PhysActivity']) + \n",
    "    (1 - merged_df['Fruits']) + \n",
    "    (1 - merged_df['Veggies']) + \n",
    "    merged_df['HvyAlcoholConsump']\n",
    ")\n",
    "\n",
    "# Health Risk Score\n",
    "merged_df['Health_Risk'] = merged_df['HighBP'] + merged_df['HighChol'] + merged_df['HeartDiseaseorAttack']\n"
   ]
  },
  {
   "cell_type": "code",
   "execution_count": 73,
   "id": "1f35e4b3-3ae4-42a1-93fa-91c661787c1d",
   "metadata": {},
   "outputs": [],
   "source": [
    "# Define obesity levels\n",
    "def categorize_bmi(bmi):\n",
    "    if bmi < 18.5:\n",
    "        return 'Underweight'\n",
    "    elif 18.5 <= bmi < 25:\n",
    "        return 'Normal'\n",
    "    elif 25 <= bmi < 30:\n",
    "        return 'Overweight'\n",
    "    else:\n",
    "        return 'Obese'\n",
    "\n",
    "merged_df['Obesity_Level'] = merged_df['BMI'].apply(categorize_bmi)\n"
   ]
  },
  {
   "cell_type": "code",
   "execution_count": 74,
   "id": "817162de-728a-4bc0-abb1-a514f6e53230",
   "metadata": {},
   "outputs": [],
   "source": [
    "# One-hot encoding for obesity level\n",
    "merged_df = pd.get_dummies(merged_df, columns=['Obesity_Level'], drop_first=True)\n"
   ]
  },
  {
   "cell_type": "code",
   "execution_count": 75,
   "id": "0f238084-39b6-4048-a331-6b3dc92f84f0",
   "metadata": {},
   "outputs": [],
   "source": [
    "# Define age bins\n",
    "age_bins = [0, 20, 35, 50, 65, 100]\n",
    "age_labels = ['0-20', '21-35', '36-50', '51-65', '65+']\n",
    "\n",
    "merged_df['Age_Group'] = pd.cut(merged_df['Age'], bins=age_bins, labels=age_labels)\n",
    "\n",
    "# One-hot encoding for age group\n",
    "merged_df = pd.get_dummies(merged_df, columns=['Age_Group'], drop_first=True)\n"
   ]
  },
  {
   "cell_type": "code",
   "execution_count": 76,
   "id": "28c2c5b3-5eda-4354-ba04-827f35abc721",
   "metadata": {},
   "outputs": [],
   "source": [
    "# Interaction features\n",
    "merged_df['Age_BMI_Interaction'] = merged_df['Age'] * merged_df['BMI']\n",
    "merged_df['Sex_HeartDisease_Interaction'] = merged_df['Sex'] * merged_df['HeartDiseaseorAttack']\n"
   ]
  },
  {
   "cell_type": "code",
   "execution_count": 77,
   "id": "9ee91bd5-4de3-4761-b525-c5947c679964",
   "metadata": {},
   "outputs": [],
   "source": [
    "# Diabetes Probability Index\n",
    "merged_df['Diabetes_Index'] = (\n",
    "    0.4 * merged_df['HighBP'] +\n",
    "    0.3 * merged_df['HighChol'] +\n",
    "    0.1 * merged_df['HeartDiseaseorAttack'] +\n",
    "    0.1 * (1 - merged_df['PhysActivity']) +\n",
    "    0.1 * (1 - merged_df['Fruits'])\n",
    ")\n"
   ]
  },
  {
   "cell_type": "code",
   "execution_count": 78,
   "id": "cfa0db80-0c36-4114-9ae3-6064e5a9e0c2",
   "metadata": {},
   "outputs": [
    {
     "data": {
      "text/html": [
       "<div>\n",
       "<style scoped>\n",
       "    .dataframe tbody tr th:only-of-type {\n",
       "        vertical-align: middle;\n",
       "    }\n",
       "\n",
       "    .dataframe tbody tr th {\n",
       "        vertical-align: top;\n",
       "    }\n",
       "\n",
       "    .dataframe thead th {\n",
       "        text-align: right;\n",
       "    }\n",
       "</style>\n",
       "<table border=\"1\" class=\"dataframe\">\n",
       "  <thead>\n",
       "    <tr style=\"text-align: right;\">\n",
       "      <th></th>\n",
       "      <th>Sex</th>\n",
       "      <th>Age</th>\n",
       "      <th>BMI</th>\n",
       "      <th>HighBP</th>\n",
       "      <th>HighChol</th>\n",
       "      <th>CholCheck</th>\n",
       "      <th>Smoker</th>\n",
       "      <th>PhysActivity</th>\n",
       "      <th>Fruits</th>\n",
       "      <th>Veggies</th>\n",
       "      <th>...</th>\n",
       "      <th>Obesity_Level_Obese</th>\n",
       "      <th>Obesity_Level_Overweight</th>\n",
       "      <th>Obesity_Level_Underweight</th>\n",
       "      <th>Age_Group_21-35</th>\n",
       "      <th>Age_Group_36-50</th>\n",
       "      <th>Age_Group_51-65</th>\n",
       "      <th>Age_Group_65+</th>\n",
       "      <th>Age_BMI_Interaction</th>\n",
       "      <th>Sex_HeartDisease_Interaction</th>\n",
       "      <th>Diabetes_Index</th>\n",
       "    </tr>\n",
       "  </thead>\n",
       "  <tbody>\n",
       "    <tr>\n",
       "      <th>0</th>\n",
       "      <td>0.0</td>\n",
       "      <td>70.0</td>\n",
       "      <td>0.61</td>\n",
       "      <td>1.0</td>\n",
       "      <td>1.0</td>\n",
       "      <td>1.0</td>\n",
       "      <td>0.0</td>\n",
       "      <td>1.0</td>\n",
       "      <td>1.0</td>\n",
       "      <td>1.0</td>\n",
       "      <td>...</td>\n",
       "      <td>0</td>\n",
       "      <td>0</td>\n",
       "      <td>1</td>\n",
       "      <td>0</td>\n",
       "      <td>0</td>\n",
       "      <td>0</td>\n",
       "      <td>1</td>\n",
       "      <td>42.70</td>\n",
       "      <td>0.0</td>\n",
       "      <td>0.7</td>\n",
       "    </tr>\n",
       "    <tr>\n",
       "      <th>1</th>\n",
       "      <td>0.0</td>\n",
       "      <td>60.0</td>\n",
       "      <td>0.79</td>\n",
       "      <td>1.0</td>\n",
       "      <td>1.0</td>\n",
       "      <td>1.0</td>\n",
       "      <td>0.0</td>\n",
       "      <td>1.0</td>\n",
       "      <td>1.0</td>\n",
       "      <td>1.0</td>\n",
       "      <td>...</td>\n",
       "      <td>0</td>\n",
       "      <td>0</td>\n",
       "      <td>1</td>\n",
       "      <td>0</td>\n",
       "      <td>0</td>\n",
       "      <td>1</td>\n",
       "      <td>0</td>\n",
       "      <td>47.40</td>\n",
       "      <td>0.0</td>\n",
       "      <td>0.7</td>\n",
       "    </tr>\n",
       "    <tr>\n",
       "      <th>2</th>\n",
       "      <td>0.0</td>\n",
       "      <td>50.0</td>\n",
       "      <td>0.87</td>\n",
       "      <td>1.0</td>\n",
       "      <td>1.0</td>\n",
       "      <td>1.0</td>\n",
       "      <td>0.0</td>\n",
       "      <td>1.0</td>\n",
       "      <td>1.0</td>\n",
       "      <td>1.0</td>\n",
       "      <td>...</td>\n",
       "      <td>0</td>\n",
       "      <td>0</td>\n",
       "      <td>1</td>\n",
       "      <td>0</td>\n",
       "      <td>1</td>\n",
       "      <td>0</td>\n",
       "      <td>0</td>\n",
       "      <td>43.50</td>\n",
       "      <td>0.0</td>\n",
       "      <td>0.7</td>\n",
       "    </tr>\n",
       "    <tr>\n",
       "      <th>3</th>\n",
       "      <td>0.0</td>\n",
       "      <td>42.0</td>\n",
       "      <td>0.75</td>\n",
       "      <td>1.0</td>\n",
       "      <td>1.0</td>\n",
       "      <td>1.0</td>\n",
       "      <td>0.0</td>\n",
       "      <td>1.0</td>\n",
       "      <td>1.0</td>\n",
       "      <td>1.0</td>\n",
       "      <td>...</td>\n",
       "      <td>0</td>\n",
       "      <td>0</td>\n",
       "      <td>1</td>\n",
       "      <td>0</td>\n",
       "      <td>1</td>\n",
       "      <td>0</td>\n",
       "      <td>0</td>\n",
       "      <td>31.50</td>\n",
       "      <td>0.0</td>\n",
       "      <td>0.7</td>\n",
       "    </tr>\n",
       "    <tr>\n",
       "      <th>4</th>\n",
       "      <td>0.0</td>\n",
       "      <td>26.0</td>\n",
       "      <td>0.91</td>\n",
       "      <td>1.0</td>\n",
       "      <td>1.0</td>\n",
       "      <td>1.0</td>\n",
       "      <td>0.0</td>\n",
       "      <td>1.0</td>\n",
       "      <td>1.0</td>\n",
       "      <td>1.0</td>\n",
       "      <td>...</td>\n",
       "      <td>0</td>\n",
       "      <td>0</td>\n",
       "      <td>1</td>\n",
       "      <td>1</td>\n",
       "      <td>0</td>\n",
       "      <td>0</td>\n",
       "      <td>0</td>\n",
       "      <td>23.66</td>\n",
       "      <td>0.0</td>\n",
       "      <td>0.7</td>\n",
       "    </tr>\n",
       "  </tbody>\n",
       "</table>\n",
       "<p>5 rows × 25 columns</p>\n",
       "</div>"
      ],
      "text/plain": [
       "   Sex   Age   BMI  HighBP  HighChol  CholCheck  Smoker  PhysActivity  Fruits  \\\n",
       "0  0.0  70.0  0.61     1.0       1.0        1.0     0.0           1.0     1.0   \n",
       "1  0.0  60.0  0.79     1.0       1.0        1.0     0.0           1.0     1.0   \n",
       "2  0.0  50.0  0.87     1.0       1.0        1.0     0.0           1.0     1.0   \n",
       "3  0.0  42.0  0.75     1.0       1.0        1.0     0.0           1.0     1.0   \n",
       "4  0.0  26.0  0.91     1.0       1.0        1.0     0.0           1.0     1.0   \n",
       "\n",
       "   Veggies  ...  Obesity_Level_Obese  Obesity_Level_Overweight  \\\n",
       "0      1.0  ...                    0                         0   \n",
       "1      1.0  ...                    0                         0   \n",
       "2      1.0  ...                    0                         0   \n",
       "3      1.0  ...                    0                         0   \n",
       "4      1.0  ...                    0                         0   \n",
       "\n",
       "   Obesity_Level_Underweight  Age_Group_21-35  Age_Group_36-50  \\\n",
       "0                          1                0                0   \n",
       "1                          1                0                0   \n",
       "2                          1                0                1   \n",
       "3                          1                0                1   \n",
       "4                          1                1                0   \n",
       "\n",
       "   Age_Group_51-65  Age_Group_65+  Age_BMI_Interaction  \\\n",
       "0                0              1                42.70   \n",
       "1                1              0                47.40   \n",
       "2                0              0                43.50   \n",
       "3                0              0                31.50   \n",
       "4                0              0                23.66   \n",
       "\n",
       "   Sex_HeartDisease_Interaction  Diabetes_Index  \n",
       "0                           0.0             0.7  \n",
       "1                           0.0             0.7  \n",
       "2                           0.0             0.7  \n",
       "3                           0.0             0.7  \n",
       "4                           0.0             0.7  \n",
       "\n",
       "[5 rows x 25 columns]"
      ]
     },
     "execution_count": 78,
     "metadata": {},
     "output_type": "execute_result"
    }
   ],
   "source": [
    "merged_df.head()"
   ]
  },
  {
   "cell_type": "code",
   "execution_count": 79,
   "id": "315a7adf-74a0-4e7b-89a2-17fa6ddbd3a4",
   "metadata": {},
   "outputs": [
    {
     "data": {
      "text/plain": [
       "Index(['Sex', 'Age', 'BMI', 'HighBP', 'HighChol', 'CholCheck', 'Smoker',\n",
       "       'PhysActivity', 'Fruits', 'Veggies', 'HvyAlcoholConsump',\n",
       "       'HeartDiseaseorAttack', 'Diabetes_binary', 'Lifestyle_Risk',\n",
       "       'Health_Risk', 'Obesity_Level_Obese', 'Obesity_Level_Overweight',\n",
       "       'Obesity_Level_Underweight', 'Age_Group_21-35', 'Age_Group_36-50',\n",
       "       'Age_Group_51-65', 'Age_Group_65+', 'Age_BMI_Interaction',\n",
       "       'Sex_HeartDisease_Interaction', 'Diabetes_Index'],\n",
       "      dtype='object')"
      ]
     },
     "execution_count": 79,
     "metadata": {},
     "output_type": "execute_result"
    }
   ],
   "source": [
    "merged_df.columns"
   ]
  },
  {
   "cell_type": "code",
   "execution_count": 80,
   "id": "a1e2ef8c-af7f-423b-a58d-7d725e95eb44",
   "metadata": {},
   "outputs": [
    {
     "name": "stdout",
     "output_type": "stream",
     "text": [
      "   Sex   Age   BMI  HighBP  HighChol  CholCheck  Smoker  PhysActivity  Fruits  \\\n",
      "0  0.0  70.0  0.61     1.0       1.0        1.0     0.0           1.0     1.0   \n",
      "1  0.0  60.0  0.79     1.0       1.0        1.0     0.0           1.0     1.0   \n",
      "2  0.0  50.0  0.87     1.0       1.0        1.0     0.0           1.0     1.0   \n",
      "3  0.0  42.0  0.75     1.0       1.0        1.0     0.0           1.0     1.0   \n",
      "4  0.0  26.0  0.91     1.0       1.0        1.0     0.0           1.0     1.0   \n",
      "\n",
      "   Veggies  ...  Obesity_Level_Overweight  Obesity_Level_Underweight  \\\n",
      "0      1.0  ...                         0                          1   \n",
      "1      1.0  ...                         0                          1   \n",
      "2      1.0  ...                         0                          1   \n",
      "3      1.0  ...                         0                          1   \n",
      "4      1.0  ...                         0                          1   \n",
      "\n",
      "   Age_Group_21-35  Age_Group_36-50  Age_Group_51-65  Age_Group_65+  \\\n",
      "0                0                0                0              1   \n",
      "1                0                0                1              0   \n",
      "2                0                1                0              0   \n",
      "3                0                1                0              0   \n",
      "4                1                0                0              0   \n",
      "\n",
      "   Age_BMI_Interaction  Sex_HeartDisease_Interaction  Diabetes_Index  \\\n",
      "0                42.70                           0.0             0.7   \n",
      "1                47.40                           0.0             0.7   \n",
      "2                43.50                           0.0             0.7   \n",
      "3                31.50                           0.0             0.7   \n",
      "4                23.66                           0.0             0.7   \n",
      "\n",
      "   Diabetes_binary  \n",
      "0              1.0  \n",
      "1              1.0  \n",
      "2              1.0  \n",
      "3              0.0  \n",
      "4              0.0  \n",
      "\n",
      "[5 rows x 25 columns]\n"
     ]
    }
   ],
   "source": [
    "# Define the new column order\n",
    "new_order = ['Sex', 'Age', 'BMI', 'HighBP', 'HighChol', 'CholCheck', 'Smoker',\n",
    "       'PhysActivity', 'Fruits', 'Veggies', 'HvyAlcoholConsump',\n",
    "       'HeartDiseaseorAttack', 'Lifestyle_Risk',\n",
    "       'Health_Risk', 'Obesity_Level_Obese', 'Obesity_Level_Overweight',\n",
    "       'Obesity_Level_Underweight', 'Age_Group_21-35', 'Age_Group_36-50',\n",
    "       'Age_Group_51-65', 'Age_Group_65+', 'Age_BMI_Interaction',\n",
    "       'Sex_HeartDisease_Interaction', 'Diabetes_Index', 'Diabetes_binary']\n",
    "\n",
    "# Rearrange the columns\n",
    "merged_df = merged_df[new_order]\n",
    "\n",
    "# Display the updated DataFrame\n",
    "print(merged_df.head())"
   ]
  },
  {
   "cell_type": "code",
   "execution_count": 81,
   "id": "70a16d8b-554f-4add-a0bd-7ef5f7b8fc95",
   "metadata": {},
   "outputs": [
    {
     "data": {
      "image/png": "[encoded data removed]",
      "text/plain": [
       "<Figure size 720x576 with 2 Axes>"
      ]
     },
     "metadata": {
      "needs_background": "light"
     },
     "output_type": "display_data"
    }
   ],
   "source": [
    "# Correlation matrix\n",
    "import seaborn as sns\n",
    "import matplotlib.pyplot as plt\n",
    "\n",
    "plt.figure(figsize=(10, 8))\n",
    "sns.heatmap(merged_df.corr(), annot=True, cmap='coolwarm', fmt=\".2f\")\n",
    "plt.title('Correlation Heatmap')\n",
    "plt.show()\n"
   ]
  },
  {
   "cell_type": "code",
   "execution_count": 82,
   "id": "a7b31aac-1362-4398-8059-3fe6e217c999",
   "metadata": {},
   "outputs": [
    {
     "name": "stdout",
     "output_type": "stream",
     "text": [
      "Correlation with Diabetes_binary:\n",
      " Diabetes_binary                 1.000000\n",
      "Diabetes_Index                  0.438694\n",
      "Health_Risk                     0.429076\n",
      "HighBP                          0.385319\n",
      "HighChol                        0.296049\n",
      "Obesity_Level_Obese             0.266797\n",
      "BMI                             0.237240\n",
      "Age_BMI_Interaction             0.211737\n",
      "HeartDiseaseorAttack            0.200991\n",
      "Sex_HeartDisease_Interaction    0.146665\n",
      "Age                             0.125750\n",
      "CholCheck                       0.116138\n",
      "Lifestyle_Risk                  0.100786\n",
      "Age_Group_51-65                 0.086136\n",
      "Age_Group_65+                   0.068600\n",
      "Smoker                          0.068325\n",
      "Sex                             0.041446\n",
      "Age_Group_36-50                 0.034917\n",
      "Obesity_Level_Underweight       0.010979\n",
      "Age_Group_21-35                 0.005102\n",
      "Fruits                         -0.039963\n",
      "Veggies                        -0.069411\n",
      "Obesity_Level_Overweight       -0.089030\n",
      "HvyAlcoholConsump              -0.096746\n",
      "PhysActivity                   -0.144765\n",
      "Name: Diabetes_binary, dtype: float64\n",
      "Weak Features to Drop:\n",
      " Index(['Age_Group_51-65', 'Age_Group_65+', 'Smoker', 'Sex', 'Age_Group_36-50',\n",
      "       'Obesity_Level_Underweight', 'Age_Group_21-35', 'Fruits', 'Veggies',\n",
      "       'Obesity_Level_Overweight', 'HvyAlcoholConsump'],\n",
      "      dtype='object')\n",
      "Updated Columns:\n",
      " Index(['Age', 'BMI', 'HighBP', 'HighChol', 'CholCheck', 'PhysActivity',\n",
      "       'HeartDiseaseorAttack', 'Lifestyle_Risk', 'Health_Risk',\n",
      "       'Obesity_Level_Obese', 'Age_BMI_Interaction',\n",
      "       'Sex_HeartDisease_Interaction', 'Diabetes_Index', 'Diabetes_binary'],\n",
      "      dtype='object')\n"
     ]
    }
   ],
   "source": [
    "# 1. Correlation with Target Variable\n",
    "target_corr = merged_df.corr()['Diabetes_binary'].sort_values(ascending=False)\n",
    "print(\"Correlation with Diabetes_binary:\\n\", target_corr)\n",
    "\n",
    "# 2. Identify Weak Features (absolute correlation < 0.1)\n",
    "weak_features = target_corr[abs(target_corr) < 0.1].index\n",
    "print(\"Weak Features to Drop:\\n\", weak_features)\n",
    "\n",
    "# 3. Drop Weak Features\n",
    "merged_df = merged_df.drop(columns=weak_features)\n",
    "print(\"Updated Columns:\\n\", merged_df.columns)\n"
   ]
  },
  {
   "cell_type": "code",
   "execution_count": 102,
   "id": "dab43dd3-e42c-4513-a081-a4ec4cdc3000",
   "metadata": {},
   "outputs": [
    {
     "name": "stdout",
     "output_type": "stream",
     "text": [
      "Top features: Index(['Age', 'BMI', 'HighBP', 'HighChol', 'HeartDiseaseorAttack',\n",
      "       'Health_Risk', 'Obesity_Level_Obese', 'Age_BMI_Interaction',\n",
      "       'Sex_HeartDisease_Interaction', 'Diabetes_Index'],\n",
      "      dtype='object')\n"
     ]
    }
   ],
   "source": [
    "from sklearn.feature_selection import SelectKBest, chi2\n",
    "\n",
    "# Select the top 10 features\n",
    "X_selection = merged_df.drop('Diabetes_binary', axis=1)\n",
    "y_selection = merged_df['Diabetes_binary']\n",
    "best_features = SelectKBest(chi2, k=10).fit(X, y)\n",
    "\n",
    "# Display selected features\n",
    "selected_features = X.columns[best_features.get_support()]\n",
    "print(\"Top features:\", selected_features)\n"
   ]
  },
  {
   "cell_type": "code",
   "execution_count": 99,
   "id": "5c2bd5d4-f1f1-4cd5-a417-7c5a405a3ac3",
   "metadata": {},
   "outputs": [
    {
     "name": "stdout",
     "output_type": "stream",
     "text": [
      "Final columns: Index(['Age', 'BMI', 'HighBP', 'HighChol', 'HeartDiseaseorAttack',\n",
      "       'Health_Risk', 'Obesity_Level_Obese', 'Age_BMI_Interaction',\n",
      "       'Sex_HeartDisease_Interaction', 'Diabetes_Index', 'Diabetes_binary'],\n",
      "      dtype='object')\n"
     ]
    }
   ],
   "source": [
    "# List of irrelevant columns identified (replace with actual columns)\n",
    "irrelevant_columns = ['CholCheck', 'PhysActivity', 'Lifestyle_Risk']\n",
    "\n",
    "# Drop them from the dataset\n",
    "merged_df = merged_df.drop(columns=irrelevant_columns)\n",
    "\n",
    "# Check the final dataset\n",
    "print(\"Final columns:\", merged_df.columns)\n"
   ]
  },
  {
   "cell_type": "code",
   "execution_count": 103,
   "id": "b95e857e-d0e7-42f9-8845-e2180c9986d5",
   "metadata": {},
   "outputs": [
    {
     "data": {
      "text/html": [
       "<div>\n",
       "<style scoped>\n",
       "    .dataframe tbody tr th:only-of-type {\n",
       "        vertical-align: middle;\n",
       "    }\n",
       "\n",
       "    .dataframe tbody tr th {\n",
       "        vertical-align: top;\n",
       "    }\n",
       "\n",
       "    .dataframe thead th {\n",
       "        text-align: right;\n",
       "    }\n",
       "</style>\n",
       "<table border=\"1\" class=\"dataframe\">\n",
       "  <thead>\n",
       "    <tr style=\"text-align: right;\">\n",
       "      <th></th>\n",
       "      <th>Age</th>\n",
       "      <th>BMI</th>\n",
       "      <th>HighBP</th>\n",
       "      <th>HighChol</th>\n",
       "      <th>HeartDiseaseorAttack</th>\n",
       "      <th>Health_Risk</th>\n",
       "      <th>Obesity_Level_Obese</th>\n",
       "      <th>Age_BMI_Interaction</th>\n",
       "      <th>Sex_HeartDisease_Interaction</th>\n",
       "      <th>Diabetes_Index</th>\n",
       "      <th>Diabetes_binary</th>\n",
       "    </tr>\n",
       "  </thead>\n",
       "  <tbody>\n",
       "    <tr>\n",
       "      <th>0</th>\n",
       "      <td>70.0</td>\n",
       "      <td>0.61</td>\n",
       "      <td>1.0</td>\n",
       "      <td>1.0</td>\n",
       "      <td>0.0</td>\n",
       "      <td>2.0</td>\n",
       "      <td>0</td>\n",
       "      <td>42.70</td>\n",
       "      <td>0.0</td>\n",
       "      <td>0.7</td>\n",
       "      <td>1.0</td>\n",
       "    </tr>\n",
       "    <tr>\n",
       "      <th>1</th>\n",
       "      <td>60.0</td>\n",
       "      <td>0.79</td>\n",
       "      <td>1.0</td>\n",
       "      <td>1.0</td>\n",
       "      <td>0.0</td>\n",
       "      <td>2.0</td>\n",
       "      <td>0</td>\n",
       "      <td>47.40</td>\n",
       "      <td>0.0</td>\n",
       "      <td>0.7</td>\n",
       "      <td>1.0</td>\n",
       "    </tr>\n",
       "    <tr>\n",
       "      <th>2</th>\n",
       "      <td>50.0</td>\n",
       "      <td>0.87</td>\n",
       "      <td>1.0</td>\n",
       "      <td>1.0</td>\n",
       "      <td>0.0</td>\n",
       "      <td>2.0</td>\n",
       "      <td>0</td>\n",
       "      <td>43.50</td>\n",
       "      <td>0.0</td>\n",
       "      <td>0.7</td>\n",
       "      <td>1.0</td>\n",
       "    </tr>\n",
       "    <tr>\n",
       "      <th>3</th>\n",
       "      <td>42.0</td>\n",
       "      <td>0.75</td>\n",
       "      <td>1.0</td>\n",
       "      <td>1.0</td>\n",
       "      <td>0.0</td>\n",
       "      <td>2.0</td>\n",
       "      <td>0</td>\n",
       "      <td>31.50</td>\n",
       "      <td>0.0</td>\n",
       "      <td>0.7</td>\n",
       "      <td>0.0</td>\n",
       "    </tr>\n",
       "    <tr>\n",
       "      <th>4</th>\n",
       "      <td>26.0</td>\n",
       "      <td>0.91</td>\n",
       "      <td>1.0</td>\n",
       "      <td>1.0</td>\n",
       "      <td>0.0</td>\n",
       "      <td>2.0</td>\n",
       "      <td>0</td>\n",
       "      <td>23.66</td>\n",
       "      <td>0.0</td>\n",
       "      <td>0.7</td>\n",
       "      <td>0.0</td>\n",
       "    </tr>\n",
       "  </tbody>\n",
       "</table>\n",
       "</div>"
      ],
      "text/plain": [
       "    Age   BMI  HighBP  HighChol  HeartDiseaseorAttack  Health_Risk  \\\n",
       "0  70.0  0.61     1.0       1.0                   0.0          2.0   \n",
       "1  60.0  0.79     1.0       1.0                   0.0          2.0   \n",
       "2  50.0  0.87     1.0       1.0                   0.0          2.0   \n",
       "3  42.0  0.75     1.0       1.0                   0.0          2.0   \n",
       "4  26.0  0.91     1.0       1.0                   0.0          2.0   \n",
       "\n",
       "   Obesity_Level_Obese  Age_BMI_Interaction  Sex_HeartDisease_Interaction  \\\n",
       "0                    0                42.70                           0.0   \n",
       "1                    0                47.40                           0.0   \n",
       "2                    0                43.50                           0.0   \n",
       "3                    0                31.50                           0.0   \n",
       "4                    0                23.66                           0.0   \n",
       "\n",
       "   Diabetes_Index  Diabetes_binary  \n",
       "0             0.7              1.0  \n",
       "1             0.7              1.0  \n",
       "2             0.7              1.0  \n",
       "3             0.7              0.0  \n",
       "4             0.7              0.0  "
      ]
     },
     "execution_count": 103,
     "metadata": {},
     "output_type": "execute_result"
    }
   ],
   "source": [
    "merged_df.head()"
   ]
  },
  {
   "cell_type": "code",
   "execution_count": 104,
   "id": "bb5f1667-7d05-4c2d-9218-78e6baa12f84",
   "metadata": {},
   "outputs": [],
   "source": [
    "X = merged_df.drop('Diabetes_binary', axis=1)\n",
    "y = merged_df['Diabetes_binary']"
   ]
  },
  {
   "cell_type": "code",
   "execution_count": 105,
   "id": "bc94810f-dcbe-43a8-a40e-f1372161a92a",
   "metadata": {},
   "outputs": [
    {
     "name": "stdout",
     "output_type": "stream",
     "text": [
      "Explained variance ratio: [9.97444835e-01 1.92364338e-03 6.03743608e-04 2.01077529e-05\n",
      " 2.69411859e-06]\n"
     ]
    }
   ],
   "source": [
    "from sklearn.decomposition import PCA\n",
    "\n",
    "# Apply PCA\n",
    "pca = PCA(n_components=5)\n",
    "X_pca = pca.fit_transform(X)\n",
    "\n",
    "# Explained variance\n",
    "print(\"Explained variance ratio:\", pca.explained_variance_ratio_)\n"
   ]
  },
  {
   "cell_type": "code",
   "execution_count": null,
   "id": "29c78271-4d63-4e84-b7ce-aa8260f76c28",
   "metadata": {},
   "outputs": [],
   "source": []
  },
  {
   "cell_type": "code",
   "execution_count": 106,
   "id": "8d12a29f-a3a5-4cda-ad38-ef07001dae92",
   "metadata": {},
   "outputs": [],
   "source": [
    "from sklearn.model_selection import train_test_split\n",
    "\n",
    "X_train, X_test, y_train, y_test = train_test_split(X, y, test_size=0.2, random_state=42)\n"
   ]
  },
  {
   "cell_type": "code",
   "execution_count": 107,
   "id": "3a668c64-6085-4382-aaa0-184827c856ab",
   "metadata": {},
   "outputs": [],
   "source": [
    "from sklearn.preprocessing import StandardScaler\n",
    "\n",
    "# Scale the features\n",
    "scaler = StandardScaler()\n",
    "X_train_scaled = scaler.fit_transform(X_train)\n",
    "X_test_scaled = scaler.transform(X_test)"
   ]
  },
  {
   "cell_type": "code",
   "execution_count": 108,
   "id": "a9d5e089-aaa7-42cf-93a0-caeb0d5174c0",
   "metadata": {},
   "outputs": [
    {
     "name": "stdout",
     "output_type": "stream",
     "text": [
      "Training Accuracy: 72.66%\n",
      "Testing Accuracy: 72.11%\n",
      "\n",
      "Classification Report:\n",
      "               precision    recall  f1-score   support\n",
      "\n",
      "         0.0       0.73      0.70      0.71      7185\n",
      "         1.0       0.72      0.75      0.73      7403\n",
      "\n",
      "    accuracy                           0.72     14588\n",
      "   macro avg       0.72      0.72      0.72     14588\n",
      "weighted avg       0.72      0.72      0.72     14588\n",
      "\n"
     ]
    }
   ],
   "source": [
    "from sklearn.linear_model import LogisticRegression\n",
    "from sklearn.metrics import accuracy_score, classification_report, confusion_matrix\n",
    "\n",
    "# Initialize the model\n",
    "lr = LogisticRegression()\n",
    "\n",
    "# Train the model\n",
    "lr.fit(X_train_scaled, y_train)\n",
    "\n",
    "# Make predictions\n",
    "y_pred_train_lr = lr.predict(X_train_scaled)\n",
    "y_pred_test_lr = lr.predict(X_test_scaled)\n",
    "\n",
    "# Evaluate the model\n",
    "lr_train_accuracy = accuracy_score(y_train, y_pred_train_lr)\n",
    "lr_test_accuracy = accuracy_score(y_test, y_pred_test_lr)\n",
    "\n",
    "print(f\"Training Accuracy: {lr_train_accuracy * 100:.2f}%\")\n",
    "print(f\"Testing Accuracy: {lr_test_accuracy * 100:.2f}%\")\n",
    "print(\"\\nClassification Report:\\n\", classification_report(y_test, y_pred_test_lr))\n",
    "#print(\"\\nConfusion Matrix:\\n\", confusion_matrix(y_test, y_pred_test))\n"
   ]
  },
  {
   "cell_type": "code",
   "execution_count": 109,
   "id": "c6b939ca-bee5-415f-afbf-914923c211a1",
   "metadata": {},
   "outputs": [
    {
     "name": "stdout",
     "output_type": "stream",
     "text": [
      "Random Forest Training Accuracy: 76.89%\n",
      "Random Forest Testing Accuracy: 70.92%\n",
      "\n",
      "Classification Report:\n",
      "               precision    recall  f1-score   support\n",
      "\n",
      "         0.0       0.72      0.68      0.70      7185\n",
      "         1.0       0.70      0.74      0.72      7403\n",
      "\n",
      "    accuracy                           0.71     14588\n",
      "   macro avg       0.71      0.71      0.71     14588\n",
      "weighted avg       0.71      0.71      0.71     14588\n",
      "\n"
     ]
    }
   ],
   "source": [
    "from sklearn.ensemble import RandomForestClassifier\n",
    "\n",
    "# Initialize the model\n",
    "rf = RandomForestClassifier(random_state=112)\n",
    "\n",
    "# Train the model\n",
    "rf.fit(X_train_scaled, y_train)\n",
    "\n",
    "# Predictions\n",
    "y_pred_train_rf = rf.predict(X_train_scaled)\n",
    "y_pred_test_rf = rf.predict(X_test_scaled)\n",
    "\n",
    "# Accuracy\n",
    "rf_train_accuracy = accuracy_score(y_train, y_pred_train_rf)\n",
    "rf_test_accuracy = accuracy_score(y_test, y_pred_test_rf)\n",
    "\n",
    "print(f\"Random Forest Training Accuracy: {rf_train_accuracy * 100:.2f}%\")\n",
    "print(f\"Random Forest Testing Accuracy: {rf_test_accuracy * 100:.2f}%\")\n",
    "print(\"\\nClassification Report:\\n\", classification_report(y_test, y_pred_test_rf))\n",
    "#print(\"\\nConfusion Matrix:\\n\", confusion_matrix(y_test, y_pred_test))"
   ]
  },
  {
   "cell_type": "code",
   "execution_count": 110,
   "id": "2ee3c610-7856-4a31-9a81-aa44de37115c",
   "metadata": {},
   "outputs": [
    {
     "name": "stdout",
     "output_type": "stream",
     "text": [
      "Gradient Boosting Training Accuracy: 73.38%\n",
      "Gradient Boosting Testing Accuracy: 72.68%\n",
      "\n",
      "Classification Report:\n",
      "               precision    recall  f1-score   support\n",
      "\n",
      "         0.0       0.75      0.67      0.71      7185\n",
      "         1.0       0.71      0.78      0.74      7403\n",
      "\n",
      "    accuracy                           0.73     14588\n",
      "   macro avg       0.73      0.73      0.73     14588\n",
      "weighted avg       0.73      0.73      0.73     14588\n",
      "\n"
     ]
    }
   ],
   "source": [
    "from sklearn.ensemble import GradientBoostingClassifier\n",
    "\n",
    "# Train a Gradient Boosting model\n",
    "gbm = GradientBoostingClassifier(random_state=112)\n",
    "\n",
    "gbm.fit(X_train_scaled, y_train)\n",
    "\n",
    "# Make predictions\n",
    "y_pred_train_gbm = gbm.predict(X_train_scaled)\n",
    "y_pred_test_gbm = gbm.predict(X_test_scaled)\n",
    "\n",
    "# Calculate and display accuracy as a percentage\n",
    "gbm_train_accuracy = accuracy_score(y_train, y_pred_train_gbm)\n",
    "gbm_test_accuracy = accuracy_score(y_test, y_pred_test_gbm)\n",
    "\n",
    "print(f\"Gradient Boosting Training Accuracy: {gbm_train_accuracy * 100:.2f}%\")\n",
    "print(f\"Gradient Boosting Testing Accuracy: {gbm_test_accuracy * 100:.2f}%\")\n",
    "print(\"\\nClassification Report:\\n\", classification_report(y_test, y_pred_test_gbm))"
   ]
  },
  {
   "cell_type": "code",
   "execution_count": 111,
   "id": "c5cc1a35-a991-416e-9f05-9a9c0ec08c5b",
   "metadata": {},
   "outputs": [
    {
     "name": "stdout",
     "output_type": "stream",
     "text": [
      "MLPClassifier Training Accuracy: 73.44%\n",
      "MLPClassifier Testing Accuracy: 72.66%\n",
      "\n",
      "Classification Report:\n",
      "               precision    recall  f1-score   support\n",
      "\n",
      "         0.0       0.75      0.67      0.71      7185\n",
      "         1.0       0.71      0.79      0.74      7403\n",
      "\n",
      "    accuracy                           0.73     14588\n",
      "   macro avg       0.73      0.73      0.73     14588\n",
      "weighted avg       0.73      0.73      0.73     14588\n",
      "\n"
     ]
    }
   ],
   "source": [
    "from sklearn.neural_network import MLPClassifier\n",
    "\n",
    "# Train an MLPClassifier (Neural Network)\n",
    "mlp = MLPClassifier(hidden_layer_sizes=(100, 50), max_iter=1500, random_state=112)\n",
    "\n",
    "mlp.fit(X_train_scaled, y_train)\n",
    "\n",
    "# Make predictions\n",
    "y_pred_train_mlp = mlp.predict(X_train_scaled)\n",
    "y_pred_test_mlp = mlp.predict(X_test_scaled)\n",
    "\n",
    "# Calculate and display accuracy as a percentage\n",
    "mlp_train_accuracy = accuracy_score(y_train, y_pred_train_mlp)\n",
    "mlp_test_accuracy = accuracy_score(y_test, y_pred_test_mlp)\n",
    "\n",
    "print(f\"MLPClassifier Training Accuracy: {mlp_train_accuracy * 100:.2f}%\")\n",
    "print(f\"MLPClassifier Testing Accuracy: {mlp_test_accuracy * 100:.2f}%\")\n",
    "print(\"\\nClassification Report:\\n\", classification_report(y_test, y_pred_test_mlp))"
   ]
  },
  {
   "cell_type": "code",
   "execution_count": null,
   "id": "6681a7f6-5828-4fb7-9fde-bcc6304eaff7",
   "metadata": {},
   "outputs": [],
   "source": [
    "from sklearn.svm import SVC\n",
    "\n",
    "# Train an SVM model\n",
    "svm = SVC(random_state=42)\n",
    "\n",
    "svm.fit(X_train_scaled, y_train)\n",
    "\n",
    "# Make predictions\n",
    "y_pred_train_svm = svm.predict(X_train_scaled)\n",
    "y_pred_test_svm = svm.predict(X_test_scaled)\n",
    "\n",
    "# Accuracy\n",
    "svm_train_accuracy = accuracy_score(y_train, y_pred_train_svm)\n",
    "svm_test_accuracy = accuracy_score(y_test, y_pred_test_svm)\n",
    "\n",
    "print(f\"SVM Training Accuracy: {svm_train_accuracy * 100:.2f}%\")\n",
    "print(f\"SVM Testing Accuracy: {svm_test_accuracy * 100:.2f}%\")\n",
    "print(\"\\nClassification Report:\\n\", classification_report(y_test, y_pred_test_svm))\n"
   ]
  },
  {
   "cell_type": "code",
   "execution_count": 112,
   "id": "0f5f8044-25f8-4af8-b6a9-05357de53b30",
   "metadata": {},
   "outputs": [
    {
     "name": "stdout",
     "output_type": "stream",
     "text": [
      "Logistic Regression: 72.11%\n",
      "Random Forest: 70.92%\n",
      "GradientBoosting Classifier: 72.68%\n",
      "MLP CLassfier: 72.66%\n"
     ]
    }
   ],
   "source": [
    "# Store accuracies\n",
    "model_accuracies = {\n",
    "    \"Logistic Regression\": lr_test_accuracy,\n",
    "    \"Random Forest\": rf_test_accuracy,\n",
    "    \"GradientBoosting Classifier\": gbm_test_accuracy,\n",
    "    \"MLP CLassfier\": mlp_test_accuracy,\n",
    "    \n",
    "}\n",
    "\n",
    "# Display comparison\n",
    "for model, accuracy in model_accuracies.items():\n",
    "    print(f\"{model}: {accuracy * 100:.2f}%\")\n"
   ]
  },
  {
   "cell_type": "code",
   "execution_count": null,
   "id": "0c27e682-ccfe-44ff-980a-ba8e277bf1d0",
   "metadata": {},
   "outputs": [],
   "source": []
  }
 ],
 "metadata": {
  "kernelspec": {
   "display_name": "Python 3 (ipykernel)",
   "language": "python",
   "name": "python3"
  },
  "language_info": {
   "codemirror_mode": {
    "name": "ipython",
    "version": 3
   },
   "file_extension": ".py",
   "mimetype": "text/x-python",
   "name": "python",
   "nbconvert_exporter": "python",
   "pygments_lexer": "ipython3",
   "version": "3.9.12"
  }
 },
 "nbformat": 4,
 "nbformat_minor": 5
}
